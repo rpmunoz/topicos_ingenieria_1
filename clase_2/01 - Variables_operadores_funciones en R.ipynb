{
 "cells": [
  {
   "cell_type": "markdown",
   "metadata": {},
   "source": [
    "# Variables, operadores y funciones en R"
   ]
  },
  {
   "cell_type": "code",
   "execution_count": 33,
   "metadata": {
    "collapsed": false
   },
   "outputs": [
    {
     "data": {
      "text/html": [
       "'en_US.UTF-8/en_US.UTF-8/en_US.UTF-8/C/en_US.UTF-8/C'"
      ],
      "text/latex": [
       "'en\\_US.UTF-8/en\\_US.UTF-8/en\\_US.UTF-8/C/en\\_US.UTF-8/C'"
      ],
      "text/markdown": [
       "'en_US.UTF-8/en_US.UTF-8/en_US.UTF-8/C/en_US.UTF-8/C'"
      ],
      "text/plain": [
       "[1] \"en_US.UTF-8/en_US.UTF-8/en_US.UTF-8/C/en_US.UTF-8/C\""
      ]
     },
     "metadata": {},
     "output_type": "display_data"
    }
   ],
   "source": [
    "Sys.setlocale(\"LC_ALL\", 'en_US.UTF-8')"
   ]
  },
  {
   "cell_type": "markdown",
   "metadata": {},
   "source": [
    "## Uso de variables tipo escalar\n",
    "\n",
    "En R existen múltiples manera de asignar valores a una variable"
   ]
  },
  {
   "cell_type": "code",
   "execution_count": 1,
   "metadata": {
    "collapsed": false
   },
   "outputs": [
    {
     "data": {
      "text/html": [
       "10"
      ],
      "text/latex": [
       "10"
      ],
      "text/markdown": [
       "10"
      ],
      "text/plain": [
       "[1] 10"
      ]
     },
     "metadata": {},
     "output_type": "display_data"
    }
   ],
   "source": [
    "x = 10\n",
    "x"
   ]
  },
  {
   "cell_type": "code",
   "execution_count": 2,
   "metadata": {
    "collapsed": false
   },
   "outputs": [
    {
     "data": {
      "text/html": [
       "10"
      ],
      "text/latex": [
       "10"
      ],
      "text/markdown": [
       "10"
      ],
      "text/plain": [
       "[1] 10"
      ]
     },
     "metadata": {},
     "output_type": "display_data"
    }
   ],
   "source": [
    "x <- 10\n",
    "x"
   ]
  },
  {
   "cell_type": "markdown",
   "metadata": {},
   "source": [
    "El operador = puede ser usado como instrucción a nivel del prompt o como subexpresión dentro de una lista. Eso sí, no puede ser evaluada como parámetro dentro de una función."
   ]
  },
  {
   "cell_type": "code",
   "execution_count": 16,
   "metadata": {
    "collapsed": false
   },
   "outputs": [
    {
     "data": {
      "text/html": [
       "10"
      ],
      "text/latex": [
       "10"
      ],
      "text/markdown": [
       "10"
      ],
      "text/plain": [
       "[1] 10"
      ]
     },
     "metadata": {},
     "output_type": "display_data"
    },
    {
     "data": {
      "text/html": [
       "20"
      ],
      "text/latex": [
       "20"
      ],
      "text/markdown": [
       "20"
      ],
      "text/plain": [
       "[1] 20"
      ]
     },
     "metadata": {},
     "output_type": "display_data"
    }
   ],
   "source": [
    "y=10\n",
    "y\n",
    "\n",
    "{\n",
    "    y=20\n",
    "    y\n",
    "}"
   ]
  },
  {
   "cell_type": "code",
   "execution_count": 18,
   "metadata": {
    "collapsed": false
   },
   "outputs": [
    {
     "ename": "ERROR",
     "evalue": "Error in median(y = 1:10): unused argument (y = 1:10)\n",
     "output_type": "error",
     "traceback": [
      "Error in median(y = 1:10): unused argument (y = 1:10)\nTraceback:\n",
      "1. median(y = 1:10)"
     ]
    }
   ],
   "source": [
    "median(y = 1:10)\n",
    "y"
   ]
  },
  {
   "cell_type": "markdown",
   "metadata": {},
   "source": [
    "El operador <- puede ser usado como instrucción en cualquier nivel. Sí puede ser evaluado como parámetro dentro de una función."
   ]
  },
  {
   "cell_type": "code",
   "execution_count": 13,
   "metadata": {
    "collapsed": false
   },
   "outputs": [
    {
     "data": {
      "text/html": [
       "10"
      ],
      "text/latex": [
       "10"
      ],
      "text/markdown": [
       "10"
      ],
      "text/plain": [
       "[1] 10"
      ]
     },
     "metadata": {},
     "output_type": "display_data"
    },
    {
     "data": {
      "text/html": [
       "20"
      ],
      "text/latex": [
       "20"
      ],
      "text/markdown": [
       "20"
      ],
      "text/plain": [
       "[1] 20"
      ]
     },
     "metadata": {},
     "output_type": "display_data"
    }
   ],
   "source": [
    "y <- 10\n",
    "y\n",
    "\n",
    "{\n",
    "    y <- 20\n",
    "    y\n",
    "}"
   ]
  },
  {
   "cell_type": "code",
   "execution_count": 14,
   "metadata": {
    "collapsed": false
   },
   "outputs": [
    {
     "data": {
      "text/html": [
       "5.5"
      ],
      "text/latex": [
       "5.5"
      ],
      "text/markdown": [
       "5.5"
      ],
      "text/plain": [
       "[1] 5.5"
      ]
     },
     "metadata": {},
     "output_type": "display_data"
    },
    {
     "data": {
      "text/html": [
       "<ol class=list-inline>\n",
       "\t<li>1</li>\n",
       "\t<li>2</li>\n",
       "\t<li>3</li>\n",
       "\t<li>4</li>\n",
       "\t<li>5</li>\n",
       "\t<li>6</li>\n",
       "\t<li>7</li>\n",
       "\t<li>8</li>\n",
       "\t<li>9</li>\n",
       "\t<li>10</li>\n",
       "</ol>\n"
      ],
      "text/latex": [
       "\\begin{enumerate*}\n",
       "\\item 1\n",
       "\\item 2\n",
       "\\item 3\n",
       "\\item 4\n",
       "\\item 5\n",
       "\\item 6\n",
       "\\item 7\n",
       "\\item 8\n",
       "\\item 9\n",
       "\\item 10\n",
       "\\end{enumerate*}\n"
      ],
      "text/markdown": [
       "1. 1\n",
       "2. 2\n",
       "3. 3\n",
       "4. 4\n",
       "5. 5\n",
       "6. 6\n",
       "7. 7\n",
       "8. 8\n",
       "9. 9\n",
       "10. 10\n",
       "\n",
       "\n"
      ],
      "text/plain": [
       " [1]  1  2  3  4  5  6  7  8  9 10"
      ]
     },
     "metadata": {},
     "output_type": "display_data"
    }
   ],
   "source": [
    "median(y <- 1:10)\n",
    "y"
   ]
  },
  {
   "cell_type": "markdown",
   "metadata": {},
   "source": [
    "Operadores de comparación lógica\n",
    "\n",
    "* < para menor que\n",
    "* \\> para mayor que\n",
    "* <= para menor o igual que\n",
    "* \\>= para mayor o igual que\n",
    "* == para verificar si variables son iguales\n",
    "* != no son iguales entre ellas"
   ]
  },
  {
   "cell_type": "code",
   "execution_count": 24,
   "metadata": {
    "collapsed": false
   },
   "outputs": [
    {
     "data": {
      "text/html": [
       "TRUE"
      ],
      "text/latex": [
       "TRUE"
      ],
      "text/markdown": [
       "TRUE"
      ],
      "text/plain": [
       "[1] TRUE"
      ]
     },
     "metadata": {},
     "output_type": "display_data"
    }
   ],
   "source": [
    "10 > 5"
   ]
  },
  {
   "cell_type": "code",
   "execution_count": 26,
   "metadata": {
    "collapsed": false
   },
   "outputs": [
    {
     "data": {
      "text/html": [
       "FALSE"
      ],
      "text/latex": [
       "FALSE"
      ],
      "text/markdown": [
       "FALSE"
      ],
      "text/plain": [
       "[1] FALSE"
      ]
     },
     "metadata": {},
     "output_type": "display_data"
    }
   ],
   "source": [
    "10 < 5"
   ]
  },
  {
   "cell_type": "markdown",
   "metadata": {},
   "source": [
    "## Uso de variables tipo vector\n",
    "\n",
    "El análisis de datos en R se hace generalmente usando vectores, matrices y dataframes\n",
    "\n",
    "Para definir un vector en R usamos la función combine, la cual se llama con c()"
   ]
  },
  {
   "cell_type": "code",
   "execution_count": 27,
   "metadata": {
    "collapsed": false
   },
   "outputs": [
    {
     "data": {
      "text/html": [
       "<ol class=list-inline>\n",
       "\t<li>35</li>\n",
       "\t<li>37</li>\n",
       "\t<li>30</li>\n",
       "\t<li>45</li>\n",
       "\t<li>40</li>\n",
       "\t<li>36</li>\n",
       "\t<li>45</li>\n",
       "\t<li>32</li>\n",
       "\t<li>52</li>\n",
       "\t<li>42</li>\n",
       "\t<li>30</li>\n",
       "\t<li>48</li>\n",
       "</ol>\n"
      ],
      "text/latex": [
       "\\begin{enumerate*}\n",
       "\\item 35\n",
       "\\item 37\n",
       "\\item 30\n",
       "\\item 45\n",
       "\\item 40\n",
       "\\item 36\n",
       "\\item 45\n",
       "\\item 32\n",
       "\\item 52\n",
       "\\item 42\n",
       "\\item 30\n",
       "\\item 48\n",
       "\\end{enumerate*}\n"
      ],
      "text/markdown": [
       "1. 35\n",
       "2. 37\n",
       "3. 30\n",
       "4. 45\n",
       "5. 40\n",
       "6. 36\n",
       "7. 45\n",
       "8. 32\n",
       "9. 52\n",
       "10. 42\n",
       "11. 30\n",
       "12. 48\n",
       "\n",
       "\n"
      ],
      "text/plain": [
       " [1] 35 37 30 45 40 36 45 32 52 42 30 48"
      ]
     },
     "metadata": {},
     "output_type": "display_data"
    }
   ],
   "source": [
    "edad = c(35, 37, 30, 45, 40, 36, 45, 32, 52, 42, 30, 48 )\n",
    "edad"
   ]
  },
  {
   "cell_type": "markdown",
   "metadata": {},
   "source": [
    "Una vez definido el vector, uno puedo aplicar funciones estadísiticas tales como:\n",
    "\n",
    "- `mean`: Promedio\n",
    "- `median`: Mediana\n",
    "- `sd`: Desviación estándar"
   ]
  },
  {
   "cell_type": "code",
   "execution_count": 30,
   "metadata": {
    "collapsed": false
   },
   "outputs": [
    {
     "data": {
      "text/html": [
       "39.3333333333333"
      ],
      "text/latex": [
       "39.3333333333333"
      ],
      "text/markdown": [
       "39.3333333333333"
      ],
      "text/plain": [
       "[1] 39.33333"
      ]
     },
     "metadata": {},
     "output_type": "display_data"
    },
    {
     "data": {
      "text/html": [
       "38.5"
      ],
      "text/latex": [
       "38.5"
      ],
      "text/markdown": [
       "38.5"
      ],
      "text/plain": [
       "[1] 38.5"
      ]
     },
     "metadata": {},
     "output_type": "display_data"
    },
    {
     "data": {
      "text/html": [
       "7.20269309902816"
      ],
      "text/latex": [
       "7.20269309902816"
      ],
      "text/markdown": [
       "7.20269309902816"
      ],
      "text/plain": [
       "[1] 7.202693"
      ]
     },
     "metadata": {},
     "output_type": "display_data"
    }
   ],
   "source": [
    "mean(edad)\n",
    "median(edad)\n",
    "sd(edad)"
   ]
  },
  {
   "cell_type": "markdown",
   "metadata": {},
   "source": [
    "## Uso de variables tipo matriz\n",
    "\n",
    "Las variables tipo escalar y vector son útiles a la hora de analizar situaciones con pocos datos. Como iremos viendo a lo largo del curso, la mayoría de los proyectos de análsis de datos requieren usar bases de datos o tablas que contienen múltiples columnas y filas. Una manera de manipular este tipo de datos es usando matrices."
   ]
  },
  {
   "cell_type": "code",
   "execution_count": 113,
   "metadata": {
    "collapsed": true
   },
   "outputs": [],
   "source": [
    "region = c(\"Arica y Parinacota\",\"Tarapacá\",\"Antofagasta\",\"Atacama\",\"Coquimbo\",\"Valparaíso\",\"Metropolitana de Santiago\",\"Libertador General Bernardo O'Higgins\",\"Maule\",\"Biobío\",\"La Araucanía\",\"Los Ríos\",\"Los Lagos\",\"Aisén del General Carlos Ibáñez del Campo\",\"Magallanes y de la Antártica Chilena\")\n",
    "poblacion = c(308271,205566,551627,292054,714856,1859312,7150480,903248,1073635,2025995,933537,380618,835829,106893,158828)\n",
    "superficie = c(17446.20,41632.60,126048.80,74806.30,40967.80,12646.28,15547.00,16583.30,30340.30,37068.70,31842.30,18577.60,48583.30,107449.40,1392783.70)"
   ]
  },
  {
   "cell_type": "code",
   "execution_count": 114,
   "metadata": {
    "collapsed": false
   },
   "outputs": [
    {
     "data": {
      "text/html": [
       "'character'"
      ],
      "text/latex": [
       "'character'"
      ],
      "text/markdown": [
       "'character'"
      ],
      "text/plain": [
       "[1] \"character\""
      ]
     },
     "metadata": {},
     "output_type": "display_data"
    },
    {
     "data": {
      "text/html": [
       "'numeric'"
      ],
      "text/latex": [
       "'numeric'"
      ],
      "text/markdown": [
       "'numeric'"
      ],
      "text/plain": [
       "[1] \"numeric\""
      ]
     },
     "metadata": {},
     "output_type": "display_data"
    },
    {
     "data": {
      "text/html": [
       "'numeric'"
      ],
      "text/latex": [
       "'numeric'"
      ],
      "text/markdown": [
       "'numeric'"
      ],
      "text/plain": [
       "[1] \"numeric\""
      ]
     },
     "metadata": {},
     "output_type": "display_data"
    }
   ],
   "source": [
    "class(region)\n",
    "class(poblacion)\n",
    "class(superficie)"
   ]
  },
  {
   "cell_type": "code",
   "execution_count": 115,
   "metadata": {
    "collapsed": false,
    "scrolled": false
   },
   "outputs": [
    {
     "data": {
      "text/html": [
       "<table>\n",
       "<tbody>\n",
       "\t<tr><td> 308271   </td><td>  17446.20</td></tr>\n",
       "\t<tr><td> 205566   </td><td>  41632.60</td></tr>\n",
       "\t<tr><td> 551627   </td><td> 126048.80</td></tr>\n",
       "\t<tr><td> 292054   </td><td>  74806.30</td></tr>\n",
       "\t<tr><td> 714856   </td><td>  40967.80</td></tr>\n",
       "\t<tr><td>1859312   </td><td>  12646.28</td></tr>\n",
       "\t<tr><td>7150480   </td><td>  15547.00</td></tr>\n",
       "\t<tr><td> 903248   </td><td>  16583.30</td></tr>\n",
       "\t<tr><td>1073635   </td><td>  30340.30</td></tr>\n",
       "\t<tr><td>2025995   </td><td>  37068.70</td></tr>\n",
       "\t<tr><td> 933537   </td><td>  31842.30</td></tr>\n",
       "\t<tr><td> 380618   </td><td>  18577.60</td></tr>\n",
       "\t<tr><td> 835829   </td><td>  48583.30</td></tr>\n",
       "\t<tr><td> 106893   </td><td> 107449.40</td></tr>\n",
       "\t<tr><td> 158828   </td><td>1392783.70</td></tr>\n",
       "</tbody>\n",
       "</table>\n"
      ],
      "text/latex": [
       "\\begin{tabular}{ll}\n",
       "\t  308271    &   17446.20\\\\\n",
       "\t  205566    &   41632.60\\\\\n",
       "\t  551627    &  126048.80\\\\\n",
       "\t  292054    &   74806.30\\\\\n",
       "\t  714856    &   40967.80\\\\\n",
       "\t 1859312    &   12646.28\\\\\n",
       "\t 7150480    &   15547.00\\\\\n",
       "\t  903248    &   16583.30\\\\\n",
       "\t 1073635    &   30340.30\\\\\n",
       "\t 2025995    &   37068.70\\\\\n",
       "\t  933537    &   31842.30\\\\\n",
       "\t  380618    &   18577.60\\\\\n",
       "\t  835829    &   48583.30\\\\\n",
       "\t  106893    &  107449.40\\\\\n",
       "\t  158828    & 1392783.70\\\\\n",
       "\\end{tabular}\n"
      ],
      "text/markdown": [
       "\n",
       "|  308271    |   17446.20 | \n",
       "|  205566    |   41632.60 | \n",
       "|  551627    |  126048.80 | \n",
       "|  292054    |   74806.30 | \n",
       "|  714856    |   40967.80 | \n",
       "| 1859312    |   12646.28 | \n",
       "| 7150480    |   15547.00 | \n",
       "|  903248    |   16583.30 | \n",
       "| 1073635    |   30340.30 | \n",
       "| 2025995    |   37068.70 | \n",
       "|  933537    |   31842.30 | \n",
       "|  380618    |   18577.60 | \n",
       "|  835829    |   48583.30 | \n",
       "|  106893    |  107449.40 | \n",
       "|  158828    | 1392783.70 | \n",
       "\n",
       "\n"
      ],
      "text/plain": [
       "      [,1]    [,2]      \n",
       " [1,]  308271   17446.20\n",
       " [2,]  205566   41632.60\n",
       " [3,]  551627  126048.80\n",
       " [4,]  292054   74806.30\n",
       " [5,]  714856   40967.80\n",
       " [6,] 1859312   12646.28\n",
       " [7,] 7150480   15547.00\n",
       " [8,]  903248   16583.30\n",
       " [9,] 1073635   30340.30\n",
       "[10,] 2025995   37068.70\n",
       "[11,]  933537   31842.30\n",
       "[12,]  380618   18577.60\n",
       "[13,]  835829   48583.30\n",
       "[14,]  106893  107449.40\n",
       "[15,]  158828 1392783.70"
      ]
     },
     "metadata": {},
     "output_type": "display_data"
    }
   ],
   "source": [
    "chile = matrix(c(poblacion,superficie), ncol=2, byrow=FALSE)\n",
    "chile"
   ]
  },
  {
   "cell_type": "code",
   "execution_count": 116,
   "metadata": {
    "collapsed": false
   },
   "outputs": [
    {
     "data": {
      "text/html": [
       "'matrix'"
      ],
      "text/latex": [
       "'matrix'"
      ],
      "text/markdown": [
       "'matrix'"
      ],
      "text/plain": [
       "[1] \"matrix\""
      ]
     },
     "metadata": {},
     "output_type": "display_data"
    }
   ],
   "source": [
    "class(chile)"
   ]
  },
  {
   "cell_type": "code",
   "execution_count": 117,
   "metadata": {
    "collapsed": false
   },
   "outputs": [
    {
     "data": {
      "text/html": [
       "<table>\n",
       "<thead><tr><th></th><th scope=col>poblacion</th><th scope=col>superficie</th></tr></thead>\n",
       "<tbody>\n",
       "\t<tr><th scope=row>Arica y Parinacota</th><td> 308271   </td><td>  17446.20</td></tr>\n",
       "\t<tr><th scope=row>Tarapacá</th><td> 205566   </td><td>  41632.60</td></tr>\n",
       "\t<tr><th scope=row>Antofagasta</th><td> 551627   </td><td> 126048.80</td></tr>\n",
       "\t<tr><th scope=row>Atacama</th><td> 292054   </td><td>  74806.30</td></tr>\n",
       "\t<tr><th scope=row>Coquimbo</th><td> 714856   </td><td>  40967.80</td></tr>\n",
       "\t<tr><th scope=row>Valparaíso</th><td>1859312   </td><td>  12646.28</td></tr>\n",
       "\t<tr><th scope=row>Metropolitana de Santiago</th><td>7150480   </td><td>  15547.00</td></tr>\n",
       "\t<tr><th scope=row>Libertador General Bernardo O'Higgins</th><td> 903248   </td><td>  16583.30</td></tr>\n",
       "\t<tr><th scope=row>Maule</th><td>1073635   </td><td>  30340.30</td></tr>\n",
       "\t<tr><th scope=row>Biobío</th><td>2025995   </td><td>  37068.70</td></tr>\n",
       "\t<tr><th scope=row>La Araucanía</th><td> 933537   </td><td>  31842.30</td></tr>\n",
       "\t<tr><th scope=row>Los Ríos</th><td> 380618   </td><td>  18577.60</td></tr>\n",
       "\t<tr><th scope=row>Los Lagos</th><td> 835829   </td><td>  48583.30</td></tr>\n",
       "\t<tr><th scope=row>Aisén del General Carlos Ibáñez del Campo</th><td> 106893   </td><td> 107449.40</td></tr>\n",
       "\t<tr><th scope=row>Magallanes y de la Antártica Chilena</th><td> 158828   </td><td>1392783.70</td></tr>\n",
       "</tbody>\n",
       "</table>\n"
      ],
      "text/latex": [
       "\\begin{tabular}{r|ll}\n",
       "  & poblacion & superficie\\\\\n",
       "\\hline\n",
       "\tArica y Parinacota &  308271    &   17446.20\\\\\n",
       "\tTarapacá &  205566    &   41632.60\\\\\n",
       "\tAntofagasta &  551627    &  126048.80\\\\\n",
       "\tAtacama &  292054    &   74806.30\\\\\n",
       "\tCoquimbo &  714856    &   40967.80\\\\\n",
       "\tValparaíso & 1859312    &   12646.28\\\\\n",
       "\tMetropolitana de Santiago & 7150480    &   15547.00\\\\\n",
       "\tLibertador General Bernardo O'Higgins &  903248    &   16583.30\\\\\n",
       "\tMaule & 1073635    &   30340.30\\\\\n",
       "\tBiobío & 2025995    &   37068.70\\\\\n",
       "\tLa Araucanía &  933537    &   31842.30\\\\\n",
       "\tLos Ríos &  380618    &   18577.60\\\\\n",
       "\tLos Lagos &  835829    &   48583.30\\\\\n",
       "\tAisén del General Carlos Ibáñez del Campo &  106893    &  107449.40\\\\\n",
       "\tMagallanes y de la Antártica Chilena &  158828    & 1392783.70\\\\\n",
       "\\end{tabular}\n"
      ],
      "text/markdown": [
       "\n",
       "| <!--/--> | poblacion | superficie | \n",
       "|---|---|---|---|---|---|---|---|---|---|---|---|---|---|---|\n",
       "| Arica y Parinacota |  308271    |   17446.20 | \n",
       "| Tarapacá |  205566    |   41632.60 | \n",
       "| Antofagasta |  551627    |  126048.80 | \n",
       "| Atacama |  292054    |   74806.30 | \n",
       "| Coquimbo |  714856    |   40967.80 | \n",
       "| Valparaíso | 1859312    |   12646.28 | \n",
       "| Metropolitana de Santiago | 7150480    |   15547.00 | \n",
       "| Libertador General Bernardo O'Higgins |  903248    |   16583.30 | \n",
       "| Maule | 1073635    |   30340.30 | \n",
       "| Biobío | 2025995    |   37068.70 | \n",
       "| La Araucanía |  933537    |   31842.30 | \n",
       "| Los Ríos |  380618    |   18577.60 | \n",
       "| Los Lagos |  835829    |   48583.30 | \n",
       "| Aisén del General Carlos Ibáñez del Campo |  106893    |  107449.40 | \n",
       "| Magallanes y de la Antártica Chilena |  158828    | 1392783.70 | \n",
       "\n",
       "\n"
      ],
      "text/plain": [
       "                                          poblacion superficie\n",
       "Arica y Parinacota                         308271     17446.20\n",
       "Tarapacá                                   205566     41632.60\n",
       "Antofagasta                                551627    126048.80\n",
       "Atacama                                    292054     74806.30\n",
       "Coquimbo                                   714856     40967.80\n",
       "Valparaíso                                1859312     12646.28\n",
       "Metropolitana de Santiago                 7150480     15547.00\n",
       "Libertador General Bernardo O'Higgins      903248     16583.30\n",
       "Maule                                     1073635     30340.30\n",
       "Biobío                                    2025995     37068.70\n",
       "La Araucanía                               933537     31842.30\n",
       "Los Ríos                                   380618     18577.60\n",
       "Los Lagos                                  835829     48583.30\n",
       "Aisén del General Carlos Ibáñez del Campo  106893    107449.40\n",
       "Magallanes y de la Antártica Chilena       158828   1392783.70"
      ]
     },
     "metadata": {},
     "output_type": "display_data"
    }
   ],
   "source": [
    "colnames(chile)=c(\"poblacion\",\"superficie\")\n",
    "rownames(chile)=region\n",
    "chile"
   ]
  },
  {
   "cell_type": "markdown",
   "metadata": {},
   "source": [
    "Una vez que los datos están ordenados en forma matricial, es mucho más fácil responder preguntas tales como\n",
    "\n",
    "- ¿Cuáles son las regiones con mayor población?\n",
    "- ¿Cuáles son las regiones más pequeñas en superficie?\n",
    "- ¿Cuáles son las regiones con la mayor densidad de población por $km^2$?"
   ]
  },
  {
   "cell_type": "code",
   "execution_count": 118,
   "metadata": {
    "collapsed": false
   },
   "outputs": [
    {
     "data": {
      "text/html": [
       "<table>\n",
       "<thead><tr><th></th><th scope=col>poblacion</th><th scope=col>superficie</th></tr></thead>\n",
       "<tbody>\n",
       "\t<tr><th scope=row>Metropolitana de Santiago</th><td>7150480   </td><td>  15547.00</td></tr>\n",
       "\t<tr><th scope=row>Biobío</th><td>2025995   </td><td>  37068.70</td></tr>\n",
       "\t<tr><th scope=row>Valparaíso</th><td>1859312   </td><td>  12646.28</td></tr>\n",
       "\t<tr><th scope=row>Maule</th><td>1073635   </td><td>  30340.30</td></tr>\n",
       "\t<tr><th scope=row>La Araucanía</th><td> 933537   </td><td>  31842.30</td></tr>\n",
       "\t<tr><th scope=row>Libertador General Bernardo O'Higgins</th><td> 903248   </td><td>  16583.30</td></tr>\n",
       "\t<tr><th scope=row>Los Lagos</th><td> 835829   </td><td>  48583.30</td></tr>\n",
       "\t<tr><th scope=row>Coquimbo</th><td> 714856   </td><td>  40967.80</td></tr>\n",
       "\t<tr><th scope=row>Antofagasta</th><td> 551627   </td><td> 126048.80</td></tr>\n",
       "\t<tr><th scope=row>Los Ríos</th><td> 380618   </td><td>  18577.60</td></tr>\n",
       "\t<tr><th scope=row>Arica y Parinacota</th><td> 308271   </td><td>  17446.20</td></tr>\n",
       "\t<tr><th scope=row>Atacama</th><td> 292054   </td><td>  74806.30</td></tr>\n",
       "\t<tr><th scope=row>Tarapacá</th><td> 205566   </td><td>  41632.60</td></tr>\n",
       "\t<tr><th scope=row>Magallanes y de la Antártica Chilena</th><td> 158828   </td><td>1392783.70</td></tr>\n",
       "\t<tr><th scope=row>Aisén del General Carlos Ibáñez del Campo</th><td> 106893   </td><td> 107449.40</td></tr>\n",
       "</tbody>\n",
       "</table>\n"
      ],
      "text/latex": [
       "\\begin{tabular}{r|ll}\n",
       "  & poblacion & superficie\\\\\n",
       "\\hline\n",
       "\tMetropolitana de Santiago & 7150480    &   15547.00\\\\\n",
       "\tBiobío & 2025995    &   37068.70\\\\\n",
       "\tValparaíso & 1859312    &   12646.28\\\\\n",
       "\tMaule & 1073635    &   30340.30\\\\\n",
       "\tLa Araucanía &  933537    &   31842.30\\\\\n",
       "\tLibertador General Bernardo O'Higgins &  903248    &   16583.30\\\\\n",
       "\tLos Lagos &  835829    &   48583.30\\\\\n",
       "\tCoquimbo &  714856    &   40967.80\\\\\n",
       "\tAntofagasta &  551627    &  126048.80\\\\\n",
       "\tLos Ríos &  380618    &   18577.60\\\\\n",
       "\tArica y Parinacota &  308271    &   17446.20\\\\\n",
       "\tAtacama &  292054    &   74806.30\\\\\n",
       "\tTarapacá &  205566    &   41632.60\\\\\n",
       "\tMagallanes y de la Antártica Chilena &  158828    & 1392783.70\\\\\n",
       "\tAisén del General Carlos Ibáñez del Campo &  106893    &  107449.40\\\\\n",
       "\\end{tabular}\n"
      ],
      "text/markdown": [
       "\n",
       "| <!--/--> | poblacion | superficie | \n",
       "|---|---|---|---|---|---|---|---|---|---|---|---|---|---|---|\n",
       "| Metropolitana de Santiago | 7150480    |   15547.00 | \n",
       "| Biobío | 2025995    |   37068.70 | \n",
       "| Valparaíso | 1859312    |   12646.28 | \n",
       "| Maule | 1073635    |   30340.30 | \n",
       "| La Araucanía |  933537    |   31842.30 | \n",
       "| Libertador General Bernardo O'Higgins |  903248    |   16583.30 | \n",
       "| Los Lagos |  835829    |   48583.30 | \n",
       "| Coquimbo |  714856    |   40967.80 | \n",
       "| Antofagasta |  551627    |  126048.80 | \n",
       "| Los Ríos |  380618    |   18577.60 | \n",
       "| Arica y Parinacota |  308271    |   17446.20 | \n",
       "| Atacama |  292054    |   74806.30 | \n",
       "| Tarapacá |  205566    |   41632.60 | \n",
       "| Magallanes y de la Antártica Chilena |  158828    | 1392783.70 | \n",
       "| Aisén del General Carlos Ibáñez del Campo |  106893    |  107449.40 | \n",
       "\n",
       "\n"
      ],
      "text/plain": [
       "                                          poblacion superficie\n",
       "Metropolitana de Santiago                 7150480     15547.00\n",
       "Biobío                                    2025995     37068.70\n",
       "Valparaíso                                1859312     12646.28\n",
       "Maule                                     1073635     30340.30\n",
       "La Araucanía                               933537     31842.30\n",
       "Libertador General Bernardo O'Higgins      903248     16583.30\n",
       "Los Lagos                                  835829     48583.30\n",
       "Coquimbo                                   714856     40967.80\n",
       "Antofagasta                                551627    126048.80\n",
       "Los Ríos                                   380618     18577.60\n",
       "Arica y Parinacota                         308271     17446.20\n",
       "Atacama                                    292054     74806.30\n",
       "Tarapacá                                   205566     41632.60\n",
       "Magallanes y de la Antártica Chilena       158828   1392783.70\n",
       "Aisén del General Carlos Ibáñez del Campo  106893    107449.40"
      ]
     },
     "metadata": {},
     "output_type": "display_data"
    }
   ],
   "source": [
    "chile[order(chile[,\"poblacion\"],decreasing=TRUE),]"
   ]
  },
  {
   "cell_type": "code",
   "execution_count": 119,
   "metadata": {
    "collapsed": false
   },
   "outputs": [
    {
     "data": {
      "text/html": [
       "<table>\n",
       "<thead><tr><th></th><th scope=col>poblacion</th><th scope=col>superficie</th></tr></thead>\n",
       "<tbody>\n",
       "\t<tr><th scope=row>Valparaíso</th><td>1859312   </td><td>  12646.28</td></tr>\n",
       "\t<tr><th scope=row>Metropolitana de Santiago</th><td>7150480   </td><td>  15547.00</td></tr>\n",
       "\t<tr><th scope=row>Libertador General Bernardo O'Higgins</th><td> 903248   </td><td>  16583.30</td></tr>\n",
       "\t<tr><th scope=row>Arica y Parinacota</th><td> 308271   </td><td>  17446.20</td></tr>\n",
       "\t<tr><th scope=row>Los Ríos</th><td> 380618   </td><td>  18577.60</td></tr>\n",
       "\t<tr><th scope=row>Maule</th><td>1073635   </td><td>  30340.30</td></tr>\n",
       "\t<tr><th scope=row>La Araucanía</th><td> 933537   </td><td>  31842.30</td></tr>\n",
       "\t<tr><th scope=row>Biobío</th><td>2025995   </td><td>  37068.70</td></tr>\n",
       "\t<tr><th scope=row>Coquimbo</th><td> 714856   </td><td>  40967.80</td></tr>\n",
       "\t<tr><th scope=row>Tarapacá</th><td> 205566   </td><td>  41632.60</td></tr>\n",
       "\t<tr><th scope=row>Los Lagos</th><td> 835829   </td><td>  48583.30</td></tr>\n",
       "\t<tr><th scope=row>Atacama</th><td> 292054   </td><td>  74806.30</td></tr>\n",
       "\t<tr><th scope=row>Aisén del General Carlos Ibáñez del Campo</th><td> 106893   </td><td> 107449.40</td></tr>\n",
       "\t<tr><th scope=row>Antofagasta</th><td> 551627   </td><td> 126048.80</td></tr>\n",
       "\t<tr><th scope=row>Magallanes y de la Antártica Chilena</th><td> 158828   </td><td>1392783.70</td></tr>\n",
       "</tbody>\n",
       "</table>\n"
      ],
      "text/latex": [
       "\\begin{tabular}{r|ll}\n",
       "  & poblacion & superficie\\\\\n",
       "\\hline\n",
       "\tValparaíso & 1859312    &   12646.28\\\\\n",
       "\tMetropolitana de Santiago & 7150480    &   15547.00\\\\\n",
       "\tLibertador General Bernardo O'Higgins &  903248    &   16583.30\\\\\n",
       "\tArica y Parinacota &  308271    &   17446.20\\\\\n",
       "\tLos Ríos &  380618    &   18577.60\\\\\n",
       "\tMaule & 1073635    &   30340.30\\\\\n",
       "\tLa Araucanía &  933537    &   31842.30\\\\\n",
       "\tBiobío & 2025995    &   37068.70\\\\\n",
       "\tCoquimbo &  714856    &   40967.80\\\\\n",
       "\tTarapacá &  205566    &   41632.60\\\\\n",
       "\tLos Lagos &  835829    &   48583.30\\\\\n",
       "\tAtacama &  292054    &   74806.30\\\\\n",
       "\tAisén del General Carlos Ibáñez del Campo &  106893    &  107449.40\\\\\n",
       "\tAntofagasta &  551627    &  126048.80\\\\\n",
       "\tMagallanes y de la Antártica Chilena &  158828    & 1392783.70\\\\\n",
       "\\end{tabular}\n"
      ],
      "text/markdown": [
       "\n",
       "| <!--/--> | poblacion | superficie | \n",
       "|---|---|---|---|---|---|---|---|---|---|---|---|---|---|---|\n",
       "| Valparaíso | 1859312    |   12646.28 | \n",
       "| Metropolitana de Santiago | 7150480    |   15547.00 | \n",
       "| Libertador General Bernardo O'Higgins |  903248    |   16583.30 | \n",
       "| Arica y Parinacota |  308271    |   17446.20 | \n",
       "| Los Ríos |  380618    |   18577.60 | \n",
       "| Maule | 1073635    |   30340.30 | \n",
       "| La Araucanía |  933537    |   31842.30 | \n",
       "| Biobío | 2025995    |   37068.70 | \n",
       "| Coquimbo |  714856    |   40967.80 | \n",
       "| Tarapacá |  205566    |   41632.60 | \n",
       "| Los Lagos |  835829    |   48583.30 | \n",
       "| Atacama |  292054    |   74806.30 | \n",
       "| Aisén del General Carlos Ibáñez del Campo |  106893    |  107449.40 | \n",
       "| Antofagasta |  551627    |  126048.80 | \n",
       "| Magallanes y de la Antártica Chilena |  158828    | 1392783.70 | \n",
       "\n",
       "\n"
      ],
      "text/plain": [
       "                                          poblacion superficie\n",
       "Valparaíso                                1859312     12646.28\n",
       "Metropolitana de Santiago                 7150480     15547.00\n",
       "Libertador General Bernardo O'Higgins      903248     16583.30\n",
       "Arica y Parinacota                         308271     17446.20\n",
       "Los Ríos                                   380618     18577.60\n",
       "Maule                                     1073635     30340.30\n",
       "La Araucanía                               933537     31842.30\n",
       "Biobío                                    2025995     37068.70\n",
       "Coquimbo                                   714856     40967.80\n",
       "Tarapacá                                   205566     41632.60\n",
       "Los Lagos                                  835829     48583.30\n",
       "Atacama                                    292054     74806.30\n",
       "Aisén del General Carlos Ibáñez del Campo  106893    107449.40\n",
       "Antofagasta                                551627    126048.80\n",
       "Magallanes y de la Antártica Chilena       158828   1392783.70"
      ]
     },
     "metadata": {},
     "output_type": "display_data"
    }
   ],
   "source": [
    "chile[order(chile[,\"superficie\"],decreasing=FALSE),]"
   ]
  },
  {
   "cell_type": "markdown",
   "metadata": {},
   "source": [
    "La densidad de población se define como el número de personas por unidad de superficie. En nuestro caso, sería simplemente dividir la columna `poblacion` por `superficie`."
   ]
  },
  {
   "cell_type": "code",
   "execution_count": 120,
   "metadata": {
    "collapsed": false
   },
   "outputs": [
    {
     "data": {
      "text/html": [
       "<dl class=dl-horizontal>\n",
       "\t<dt>Arica y Parinacota</dt>\n",
       "\t\t<dd>17.6698077518313</dd>\n",
       "\t<dt>Tarapacá</dt>\n",
       "\t\t<dd>4.93762099892872</dd>\n",
       "\t<dt>Antofagasta</dt>\n",
       "\t\t<dd>4.37629711667227</dd>\n",
       "\t<dt>Atacama</dt>\n",
       "\t\t<dd>3.90413641631788</dd>\n",
       "\t<dt>Coquimbo</dt>\n",
       "\t\t<dd>17.4492162137093</dd>\n",
       "\t<dt>Valparaíso</dt>\n",
       "\t\t<dd>147.024421410881</dd>\n",
       "\t<dt>Metropolitana de Santiago</dt>\n",
       "\t\t<dd>459.92667395639</dd>\n",
       "\t<dt>Libertador General Bernardo O'Higgins</dt>\n",
       "\t\t<dd>54.4673255624634</dd>\n",
       "\t<dt>Maule</dt>\n",
       "\t\t<dd>35.3864332257756</dd>\n",
       "\t<dt>Biobío</dt>\n",
       "\t\t<dd>54.65514032054</dd>\n",
       "\t<dt>La Araucanía</dt>\n",
       "\t\t<dd>29.3175116119125</dd>\n",
       "\t<dt>Los Ríos</dt>\n",
       "\t\t<dd>20.4880070622685</dd>\n",
       "\t<dt>Los Lagos</dt>\n",
       "\t\t<dd>17.2040392480544</dd>\n",
       "\t<dt>Aisén del General Carlos Ibáñez del Campo</dt>\n",
       "\t\t<dd>0.994821748655646</dd>\n",
       "\t<dt>Magallanes y de la Antártica Chilena</dt>\n",
       "\t\t<dd>0.114036371907569</dd>\n",
       "</dl>\n"
      ],
      "text/latex": [
       "\\begin{description*}\n",
       "\\item[Arica y Parinacota] 17.6698077518313\n",
       "\\item[Tarapacá] 4.93762099892872\n",
       "\\item[Antofagasta] 4.37629711667227\n",
       "\\item[Atacama] 3.90413641631788\n",
       "\\item[Coquimbo] 17.4492162137093\n",
       "\\item[Valparaíso] 147.024421410881\n",
       "\\item[Metropolitana de Santiago] 459.92667395639\n",
       "\\item[Libertador General Bernardo O'Higgins] 54.4673255624634\n",
       "\\item[Maule] 35.3864332257756\n",
       "\\item[Biobío] 54.65514032054\n",
       "\\item[La Araucanía] 29.3175116119125\n",
       "\\item[Los Ríos] 20.4880070622685\n",
       "\\item[Los Lagos] 17.2040392480544\n",
       "\\item[Aisén del General Carlos Ibáñez del Campo] 0.994821748655646\n",
       "\\item[Magallanes y de la Antártica Chilena] 0.114036371907569\n",
       "\\end{description*}\n"
      ],
      "text/markdown": [
       "Arica y Parinacota\n",
       ":   17.6698077518313Tarapacá\n",
       ":   4.93762099892872Antofagasta\n",
       ":   4.37629711667227Atacama\n",
       ":   3.90413641631788Coquimbo\n",
       ":   17.4492162137093Valparaíso\n",
       ":   147.024421410881Metropolitana de Santiago\n",
       ":   459.92667395639Libertador General Bernardo O'Higgins\n",
       ":   54.4673255624634Maule\n",
       ":   35.3864332257756Biobío\n",
       ":   54.65514032054La Araucanía\n",
       ":   29.3175116119125Los Ríos\n",
       ":   20.4880070622685Los Lagos\n",
       ":   17.2040392480544Aisén del General Carlos Ibáñez del Campo\n",
       ":   0.994821748655646Magallanes y de la Antártica Chilena\n",
       ":   0.114036371907569\n",
       "\n"
      ],
      "text/plain": [
       "                       Arica y Parinacota \n",
       "                               17.6698078 \n",
       "                                 Tarapacá \n",
       "                                4.9376210 \n",
       "                              Antofagasta \n",
       "                                4.3762971 \n",
       "                                  Atacama \n",
       "                                3.9041364 \n",
       "                                 Coquimbo \n",
       "                               17.4492162 \n",
       "                               Valparaíso \n",
       "                              147.0244214 \n",
       "                Metropolitana de Santiago \n",
       "                              459.9266740 \n",
       "    Libertador General Bernardo O'Higgins \n",
       "                               54.4673256 \n",
       "                                    Maule \n",
       "                               35.3864332 \n",
       "                                   Biobío \n",
       "                               54.6551403 \n",
       "                             La Araucanía \n",
       "                               29.3175116 \n",
       "                                 Los Ríos \n",
       "                               20.4880071 \n",
       "                                Los Lagos \n",
       "                               17.2040392 \n",
       "Aisén del General Carlos Ibáñez del Campo \n",
       "                                0.9948217 \n",
       "     Magallanes y de la Antártica Chilena \n",
       "                                0.1140364 "
      ]
     },
     "metadata": {},
     "output_type": "display_data"
    }
   ],
   "source": [
    "chile[,'poblacion']/chile[,'superficie']"
   ]
  },
  {
   "cell_type": "code",
   "execution_count": 121,
   "metadata": {
    "collapsed": false
   },
   "outputs": [
    {
     "data": {
      "text/html": [
       "<ol class=list-inline>\n",
       "\t<li>17.6698077518313</li>\n",
       "\t<li>4.93762099892872</li>\n",
       "\t<li>4.37629711667227</li>\n",
       "\t<li>3.90413641631788</li>\n",
       "\t<li>17.4492162137093</li>\n",
       "\t<li>147.024421410881</li>\n",
       "\t<li>459.92667395639</li>\n",
       "\t<li>54.4673255624634</li>\n",
       "\t<li>35.3864332257756</li>\n",
       "\t<li>54.65514032054</li>\n",
       "\t<li>29.3175116119125</li>\n",
       "\t<li>20.4880070622685</li>\n",
       "\t<li>17.2040392480544</li>\n",
       "\t<li>0.994821748655646</li>\n",
       "\t<li>0.114036371907569</li>\n",
       "</ol>\n"
      ],
      "text/latex": [
       "\\begin{enumerate*}\n",
       "\\item 17.6698077518313\n",
       "\\item 4.93762099892872\n",
       "\\item 4.37629711667227\n",
       "\\item 3.90413641631788\n",
       "\\item 17.4492162137093\n",
       "\\item 147.024421410881\n",
       "\\item 459.92667395639\n",
       "\\item 54.4673255624634\n",
       "\\item 35.3864332257756\n",
       "\\item 54.65514032054\n",
       "\\item 29.3175116119125\n",
       "\\item 20.4880070622685\n",
       "\\item 17.2040392480544\n",
       "\\item 0.994821748655646\n",
       "\\item 0.114036371907569\n",
       "\\end{enumerate*}\n"
      ],
      "text/markdown": [
       "1. 17.6698077518313\n",
       "2. 4.93762099892872\n",
       "3. 4.37629711667227\n",
       "4. 3.90413641631788\n",
       "5. 17.4492162137093\n",
       "6. 147.024421410881\n",
       "7. 459.92667395639\n",
       "8. 54.4673255624634\n",
       "9. 35.3864332257756\n",
       "10. 54.65514032054\n",
       "11. 29.3175116119125\n",
       "12. 20.4880070622685\n",
       "13. 17.2040392480544\n",
       "14. 0.994821748655646\n",
       "15. 0.114036371907569\n",
       "\n",
       "\n"
      ],
      "text/plain": [
       " [1]  17.6698078   4.9376210   4.3762971   3.9041364  17.4492162 147.0244214\n",
       " [7] 459.9266740  54.4673256  35.3864332  54.6551403  29.3175116  20.4880071\n",
       "[13]  17.2040392   0.9948217   0.1140364"
      ]
     },
     "metadata": {},
     "output_type": "display_data"
    }
   ],
   "source": [
    "densidad = poblacion/superficie\n",
    "densidad"
   ]
  },
  {
   "cell_type": "markdown",
   "metadata": {},
   "source": [
    "Para agregar columnas a una matriz usaremos la función `cbind()`"
   ]
  },
  {
   "cell_type": "code",
   "execution_count": 122,
   "metadata": {
    "collapsed": false,
    "scrolled": false
   },
   "outputs": [
    {
     "data": {
      "text/html": [
       "<table>\n",
       "<thead><tr><th></th><th scope=col>poblacion</th><th scope=col>superficie</th><th scope=col>densidad</th></tr></thead>\n",
       "<tbody>\n",
       "\t<tr><th scope=row>Arica y Parinacota</th><td> 308271    </td><td>  17446.20 </td><td> 17.6698078</td></tr>\n",
       "\t<tr><th scope=row>Tarapacá</th><td> 205566    </td><td>  41632.60 </td><td>  4.9376210</td></tr>\n",
       "\t<tr><th scope=row>Antofagasta</th><td> 551627    </td><td> 126048.80 </td><td>  4.3762971</td></tr>\n",
       "\t<tr><th scope=row>Atacama</th><td> 292054    </td><td>  74806.30 </td><td>  3.9041364</td></tr>\n",
       "\t<tr><th scope=row>Coquimbo</th><td> 714856    </td><td>  40967.80 </td><td> 17.4492162</td></tr>\n",
       "\t<tr><th scope=row>Valparaíso</th><td>1859312    </td><td>  12646.28 </td><td>147.0244214</td></tr>\n",
       "\t<tr><th scope=row>Metropolitana de Santiago</th><td>7150480    </td><td>  15547.00 </td><td>459.9266740</td></tr>\n",
       "\t<tr><th scope=row>Libertador General Bernardo O'Higgins</th><td> 903248    </td><td>  16583.30 </td><td> 54.4673256</td></tr>\n",
       "\t<tr><th scope=row>Maule</th><td>1073635    </td><td>  30340.30 </td><td> 35.3864332</td></tr>\n",
       "\t<tr><th scope=row>Biobío</th><td>2025995    </td><td>  37068.70 </td><td> 54.6551403</td></tr>\n",
       "\t<tr><th scope=row>La Araucanía</th><td> 933537    </td><td>  31842.30 </td><td> 29.3175116</td></tr>\n",
       "\t<tr><th scope=row>Los Ríos</th><td> 380618    </td><td>  18577.60 </td><td> 20.4880071</td></tr>\n",
       "\t<tr><th scope=row>Los Lagos</th><td> 835829    </td><td>  48583.30 </td><td> 17.2040392</td></tr>\n",
       "\t<tr><th scope=row>Aisén del General Carlos Ibáñez del Campo</th><td> 106893    </td><td> 107449.40 </td><td>  0.9948217</td></tr>\n",
       "\t<tr><th scope=row>Magallanes y de la Antártica Chilena</th><td> 158828    </td><td>1392783.70 </td><td>  0.1140364</td></tr>\n",
       "</tbody>\n",
       "</table>\n"
      ],
      "text/latex": [
       "\\begin{tabular}{r|lll}\n",
       "  & poblacion & superficie & densidad\\\\\n",
       "\\hline\n",
       "\tArica y Parinacota &  308271     &   17446.20  &  17.6698078\\\\\n",
       "\tTarapacá &  205566     &   41632.60  &   4.9376210\\\\\n",
       "\tAntofagasta &  551627     &  126048.80  &   4.3762971\\\\\n",
       "\tAtacama &  292054     &   74806.30  &   3.9041364\\\\\n",
       "\tCoquimbo &  714856     &   40967.80  &  17.4492162\\\\\n",
       "\tValparaíso & 1859312     &   12646.28  & 147.0244214\\\\\n",
       "\tMetropolitana de Santiago & 7150480     &   15547.00  & 459.9266740\\\\\n",
       "\tLibertador General Bernardo O'Higgins &  903248     &   16583.30  &  54.4673256\\\\\n",
       "\tMaule & 1073635     &   30340.30  &  35.3864332\\\\\n",
       "\tBiobío & 2025995     &   37068.70  &  54.6551403\\\\\n",
       "\tLa Araucanía &  933537     &   31842.30  &  29.3175116\\\\\n",
       "\tLos Ríos &  380618     &   18577.60  &  20.4880071\\\\\n",
       "\tLos Lagos &  835829     &   48583.30  &  17.2040392\\\\\n",
       "\tAisén del General Carlos Ibáñez del Campo &  106893     &  107449.40  &   0.9948217\\\\\n",
       "\tMagallanes y de la Antártica Chilena &  158828     & 1392783.70  &   0.1140364\\\\\n",
       "\\end{tabular}\n"
      ],
      "text/markdown": [
       "\n",
       "| <!--/--> | poblacion | superficie | densidad | \n",
       "|---|---|---|---|---|---|---|---|---|---|---|---|---|---|---|\n",
       "| Arica y Parinacota |  308271     |   17446.20  |  17.6698078 | \n",
       "| Tarapacá |  205566     |   41632.60  |   4.9376210 | \n",
       "| Antofagasta |  551627     |  126048.80  |   4.3762971 | \n",
       "| Atacama |  292054     |   74806.30  |   3.9041364 | \n",
       "| Coquimbo |  714856     |   40967.80  |  17.4492162 | \n",
       "| Valparaíso | 1859312     |   12646.28  | 147.0244214 | \n",
       "| Metropolitana de Santiago | 7150480     |   15547.00  | 459.9266740 | \n",
       "| Libertador General Bernardo O'Higgins |  903248     |   16583.30  |  54.4673256 | \n",
       "| Maule | 1073635     |   30340.30  |  35.3864332 | \n",
       "| Biobío | 2025995     |   37068.70  |  54.6551403 | \n",
       "| La Araucanía |  933537     |   31842.30  |  29.3175116 | \n",
       "| Los Ríos |  380618     |   18577.60  |  20.4880071 | \n",
       "| Los Lagos |  835829     |   48583.30  |  17.2040392 | \n",
       "| Aisén del General Carlos Ibáñez del Campo |  106893     |  107449.40  |   0.9948217 | \n",
       "| Magallanes y de la Antártica Chilena |  158828     | 1392783.70  |   0.1140364 | \n",
       "\n",
       "\n"
      ],
      "text/plain": [
       "                                          poblacion superficie densidad   \n",
       "Arica y Parinacota                         308271     17446.20  17.6698078\n",
       "Tarapacá                                   205566     41632.60   4.9376210\n",
       "Antofagasta                                551627    126048.80   4.3762971\n",
       "Atacama                                    292054     74806.30   3.9041364\n",
       "Coquimbo                                   714856     40967.80  17.4492162\n",
       "Valparaíso                                1859312     12646.28 147.0244214\n",
       "Metropolitana de Santiago                 7150480     15547.00 459.9266740\n",
       "Libertador General Bernardo O'Higgins      903248     16583.30  54.4673256\n",
       "Maule                                     1073635     30340.30  35.3864332\n",
       "Biobío                                    2025995     37068.70  54.6551403\n",
       "La Araucanía                               933537     31842.30  29.3175116\n",
       "Los Ríos                                   380618     18577.60  20.4880071\n",
       "Los Lagos                                  835829     48583.30  17.2040392\n",
       "Aisén del General Carlos Ibáñez del Campo  106893    107449.40   0.9948217\n",
       "Magallanes y de la Antártica Chilena       158828   1392783.70   0.1140364"
      ]
     },
     "metadata": {},
     "output_type": "display_data"
    }
   ],
   "source": [
    "chile <- cbind(chile, densidad)\n",
    "chile"
   ]
  },
  {
   "cell_type": "markdown",
   "metadata": {},
   "source": [
    "¿Qué sucede si queremos agregar una nueva columna que tiene datos mixtos, digamos numéricos y caractéres?"
   ]
  },
  {
   "cell_type": "code",
   "execution_count": 123,
   "metadata": {
    "collapsed": false
   },
   "outputs": [
    {
     "data": {
      "text/html": [
       "'character'"
      ],
      "text/latex": [
       "'character'"
      ],
      "text/markdown": [
       "'character'"
      ],
      "text/plain": [
       "[1] \"character\""
      ]
     },
     "metadata": {},
     "output_type": "display_data"
    }
   ],
   "source": [
    "codigo_region <- c(\"XV\",\"I\",\"II\",\"III\",\"IV\",\"V\",\"XIII\",\"VI\",\"VII\",\"VIII\",\"IX\",\"XIV\",\"X\",\"XI\",\"XII\")\n",
    "class(codigo_region)"
   ]
  },
  {
   "cell_type": "code",
   "execution_count": 124,
   "metadata": {
    "collapsed": false
   },
   "outputs": [
    {
     "data": {
      "text/html": [
       "<table>\n",
       "<thead><tr><th></th><th scope=col>poblacion</th><th scope=col>superficie</th><th scope=col>densidad</th><th scope=col>codigo_region</th></tr></thead>\n",
       "<tbody>\n",
       "\t<tr><th scope=row>Arica y Parinacota</th><td>308271           </td><td>17446.2          </td><td>17.6698077518313 </td><td>XV               </td></tr>\n",
       "\t<tr><th scope=row>Tarapacá</th><td>205566           </td><td>41632.6          </td><td>4.93762099892872 </td><td>I                </td></tr>\n",
       "\t<tr><th scope=row>Antofagasta</th><td>551627           </td><td>126048.8         </td><td>4.37629711667227 </td><td>II               </td></tr>\n",
       "\t<tr><th scope=row>Atacama</th><td>292054           </td><td>74806.3          </td><td>3.90413641631788 </td><td>III              </td></tr>\n",
       "\t<tr><th scope=row>Coquimbo</th><td>714856           </td><td>40967.8          </td><td>17.4492162137093 </td><td>IV               </td></tr>\n",
       "\t<tr><th scope=row>Valparaíso</th><td>1859312          </td><td>12646.28         </td><td>147.024421410881 </td><td>V                </td></tr>\n",
       "\t<tr><th scope=row>Metropolitana de Santiago</th><td>7150480          </td><td>15547            </td><td>459.92667395639  </td><td>XIII             </td></tr>\n",
       "\t<tr><th scope=row>Libertador General Bernardo O'Higgins</th><td>903248           </td><td>16583.3          </td><td>54.4673255624634 </td><td>VI               </td></tr>\n",
       "\t<tr><th scope=row>Maule</th><td>1073635          </td><td>30340.3          </td><td>35.3864332257756 </td><td>VII              </td></tr>\n",
       "\t<tr><th scope=row>Biobío</th><td>2025995          </td><td>37068.7          </td><td>54.65514032054   </td><td>VIII             </td></tr>\n",
       "\t<tr><th scope=row>La Araucanía</th><td>933537           </td><td>31842.3          </td><td>29.3175116119125 </td><td>IX               </td></tr>\n",
       "\t<tr><th scope=row>Los Ríos</th><td>380618           </td><td>18577.6          </td><td>20.4880070622685 </td><td>XIV              </td></tr>\n",
       "\t<tr><th scope=row>Los Lagos</th><td>835829           </td><td>48583.3          </td><td>17.2040392480544 </td><td>X                </td></tr>\n",
       "\t<tr><th scope=row>Aisén del General Carlos Ibáñez del Campo</th><td>106893           </td><td>107449.4         </td><td>0.994821748655646</td><td>XI               </td></tr>\n",
       "\t<tr><th scope=row>Magallanes y de la Antártica Chilena</th><td>158828           </td><td>1392783.7        </td><td>0.114036371907569</td><td>XII              </td></tr>\n",
       "</tbody>\n",
       "</table>\n"
      ],
      "text/latex": [
       "\\begin{tabular}{r|llll}\n",
       "  & poblacion & superficie & densidad & codigo\\_region\\\\\n",
       "\\hline\n",
       "\tArica y Parinacota & 308271            & 17446.2           & 17.6698077518313  & XV               \\\\\n",
       "\tTarapacá & 205566            & 41632.6           & 4.93762099892872  & I                \\\\\n",
       "\tAntofagasta & 551627            & 126048.8          & 4.37629711667227  & II               \\\\\n",
       "\tAtacama & 292054            & 74806.3           & 3.90413641631788  & III              \\\\\n",
       "\tCoquimbo & 714856            & 40967.8           & 17.4492162137093  & IV               \\\\\n",
       "\tValparaíso & 1859312           & 12646.28          & 147.024421410881  & V                \\\\\n",
       "\tMetropolitana de Santiago & 7150480           & 15547             & 459.92667395639   & XIII             \\\\\n",
       "\tLibertador General Bernardo O'Higgins & 903248            & 16583.3           & 54.4673255624634  & VI               \\\\\n",
       "\tMaule & 1073635           & 30340.3           & 35.3864332257756  & VII              \\\\\n",
       "\tBiobío & 2025995           & 37068.7           & 54.65514032054    & VIII             \\\\\n",
       "\tLa Araucanía & 933537            & 31842.3           & 29.3175116119125  & IX               \\\\\n",
       "\tLos Ríos & 380618            & 18577.6           & 20.4880070622685  & XIV              \\\\\n",
       "\tLos Lagos & 835829            & 48583.3           & 17.2040392480544  & X                \\\\\n",
       "\tAisén del General Carlos Ibáñez del Campo & 106893            & 107449.4          & 0.994821748655646 & XI               \\\\\n",
       "\tMagallanes y de la Antártica Chilena & 158828            & 1392783.7         & 0.114036371907569 & XII              \\\\\n",
       "\\end{tabular}\n"
      ],
      "text/markdown": [
       "\n",
       "| <!--/--> | poblacion | superficie | densidad | codigo_region | \n",
       "|---|---|---|---|---|---|---|---|---|---|---|---|---|---|---|\n",
       "| Arica y Parinacota | 308271            | 17446.2           | 17.6698077518313  | XV                | \n",
       "| Tarapacá | 205566            | 41632.6           | 4.93762099892872  | I                 | \n",
       "| Antofagasta | 551627            | 126048.8          | 4.37629711667227  | II                | \n",
       "| Atacama | 292054            | 74806.3           | 3.90413641631788  | III               | \n",
       "| Coquimbo | 714856            | 40967.8           | 17.4492162137093  | IV                | \n",
       "| Valparaíso | 1859312           | 12646.28          | 147.024421410881  | V                 | \n",
       "| Metropolitana de Santiago | 7150480           | 15547             | 459.92667395639   | XIII              | \n",
       "| Libertador General Bernardo O'Higgins | 903248            | 16583.3           | 54.4673255624634  | VI                | \n",
       "| Maule | 1073635           | 30340.3           | 35.3864332257756  | VII               | \n",
       "| Biobío | 2025995           | 37068.7           | 54.65514032054    | VIII              | \n",
       "| La Araucanía | 933537            | 31842.3           | 29.3175116119125  | IX                | \n",
       "| Los Ríos | 380618            | 18577.6           | 20.4880070622685  | XIV               | \n",
       "| Los Lagos | 835829            | 48583.3           | 17.2040392480544  | X                 | \n",
       "| Aisén del General Carlos Ibáñez del Campo | 106893            | 107449.4          | 0.994821748655646 | XI                | \n",
       "| Magallanes y de la Antártica Chilena | 158828            | 1392783.7         | 0.114036371907569 | XII               | \n",
       "\n",
       "\n"
      ],
      "text/plain": [
       "                                          poblacion superficie\n",
       "Arica y Parinacota                        308271    17446.2   \n",
       "Tarapacá                                  205566    41632.6   \n",
       "Antofagasta                               551627    126048.8  \n",
       "Atacama                                   292054    74806.3   \n",
       "Coquimbo                                  714856    40967.8   \n",
       "Valparaíso                                1859312   12646.28  \n",
       "Metropolitana de Santiago                 7150480   15547     \n",
       "Libertador General Bernardo O'Higgins     903248    16583.3   \n",
       "Maule                                     1073635   30340.3   \n",
       "Biobío                                    2025995   37068.7   \n",
       "La Araucanía                              933537    31842.3   \n",
       "Los Ríos                                  380618    18577.6   \n",
       "Los Lagos                                 835829    48583.3   \n",
       "Aisén del General Carlos Ibáñez del Campo 106893    107449.4  \n",
       "Magallanes y de la Antártica Chilena      158828    1392783.7 \n",
       "                                          densidad          codigo_region\n",
       "Arica y Parinacota                        17.6698077518313  XV           \n",
       "Tarapacá                                  4.93762099892872  I            \n",
       "Antofagasta                               4.37629711667227  II           \n",
       "Atacama                                   3.90413641631788  III          \n",
       "Coquimbo                                  17.4492162137093  IV           \n",
       "Valparaíso                                147.024421410881  V            \n",
       "Metropolitana de Santiago                 459.92667395639   XIII         \n",
       "Libertador General Bernardo O'Higgins     54.4673255624634  VI           \n",
       "Maule                                     35.3864332257756  VII          \n",
       "Biobío                                    54.65514032054    VIII         \n",
       "La Araucanía                              29.3175116119125  IX           \n",
       "Los Ríos                                  20.4880070622685  XIV          \n",
       "Los Lagos                                 17.2040392480544  X            \n",
       "Aisén del General Carlos Ibáñez del Campo 0.994821748655646 XI           \n",
       "Magallanes y de la Antártica Chilena      0.114036371907569 XII          "
      ]
     },
     "metadata": {},
     "output_type": "display_data"
    }
   ],
   "source": [
    "chile <- cbind(chile, codigo_region)\n",
    "chile"
   ]
  },
  {
   "cell_type": "code",
   "execution_count": 125,
   "metadata": {
    "collapsed": false
   },
   "outputs": [
    {
     "data": {
      "text/html": [
       "'matrix'"
      ],
      "text/latex": [
       "'matrix'"
      ],
      "text/markdown": [
       "'matrix'"
      ],
      "text/plain": [
       "[1] \"matrix\""
      ]
     },
     "metadata": {},
     "output_type": "display_data"
    }
   ],
   "source": [
    "class(chile)"
   ]
  },
  {
   "cell_type": "markdown",
   "metadata": {},
   "source": [
    "¿Que tal si queremos volver a calcular la densidad de población usando las columnas poblacion y superficie?"
   ]
  },
  {
   "cell_type": "code",
   "execution_count": 126,
   "metadata": {
    "collapsed": false
   },
   "outputs": [
    {
     "ename": "ERROR",
     "evalue": "Error in chile[, \"poblacion\"]/chile[, \"superficie\"]: non-numeric argument to binary operator\n",
     "output_type": "error",
     "traceback": [
      "Error in chile[, \"poblacion\"]/chile[, \"superficie\"]: non-numeric argument to binary operator\nTraceback:\n"
     ]
    }
   ],
   "source": [
    "chile[,'poblacion']/chile[,'superficie']"
   ]
  },
  {
   "cell_type": "markdown",
   "metadata": {},
   "source": [
    "¿Porqué falló la división si antes funcionaba? ¿Habrá sido porque incluimos la columna codigo_region la cual contenia tipos de datos mixtos?\n",
    "\n",
    "Partamos imprimiendo los tipos de clase de las columnas poblacion y superficie"
   ]
  },
  {
   "cell_type": "code",
   "execution_count": 128,
   "metadata": {
    "collapsed": false
   },
   "outputs": [
    {
     "data": {
      "text/html": [
       "'character'"
      ],
      "text/latex": [
       "'character'"
      ],
      "text/markdown": [
       "'character'"
      ],
      "text/plain": [
       "[1] \"character\""
      ]
     },
     "metadata": {},
     "output_type": "display_data"
    },
    {
     "data": {
      "text/html": [
       "'character'"
      ],
      "text/latex": [
       "'character'"
      ],
      "text/markdown": [
       "'character'"
      ],
      "text/plain": [
       "[1] \"character\""
      ]
     },
     "metadata": {},
     "output_type": "display_data"
    }
   ],
   "source": [
    "class(chile[,'poblacion'])\n",
    "class(chile[,'superficie'])"
   ]
  },
  {
   "cell_type": "markdown",
   "metadata": {},
   "source": [
    "¿Qué sucedió?\n",
    "\n",
    "La columna `codigo_region` es un vector que contiene datos de tipo caracter, y al ser incluida a la matriz todos los datos fueron convertidos al tipo de datos más general entre los tipos númerico y caracter: caracter.\n",
    "\n",
    "Aquí vemos una gran limitación del tipo de datos matriz: No puede almacenar tipos de datos mixtos."
   ]
  },
  {
   "cell_type": "markdown",
   "metadata": {},
   "source": [
    "## Uso de listas\n",
    "\n",
    "Una lista es un vector genérico que puede contener otro tipo de objectos. Una lista puede contener escalares, caracterés, vectores numéricos, etc."
   ]
  },
  {
   "cell_type": "code",
   "execution_count": 138,
   "metadata": {
    "collapsed": false
   },
   "outputs": [
    {
     "data": {
      "text/html": [
       "<dl>\n",
       "\t<dt>$region</dt>\n",
       "\t\t<dd><ol class=list-inline>\n",
       "\t<li>'Arica y Parinacota'</li>\n",
       "\t<li>'Tarapacá'</li>\n",
       "</ol>\n",
       "</dd>\n",
       "\t<dt>$poblacion</dt>\n",
       "\t\t<dd><ol class=list-inline>\n",
       "\t<li>308271</li>\n",
       "\t<li>205566</li>\n",
       "\t<li>551627</li>\n",
       "</ol>\n",
       "</dd>\n",
       "\t<dt>$superficie</dt>\n",
       "\t\t<dd><ol class=list-inline>\n",
       "\t<li>17446.2</li>\n",
       "\t<li>41632.6</li>\n",
       "\t<li>126048.8</li>\n",
       "</ol>\n",
       "</dd>\n",
       "\t<dt>$codigo_region</dt>\n",
       "\t\t<dd><ol class=list-inline>\n",
       "\t<li>'XV'</li>\n",
       "\t<li>'I'</li>\n",
       "\t<li>'II'</li>\n",
       "</ol>\n",
       "</dd>\n",
       "</dl>\n"
      ],
      "text/latex": [
       "\\begin{description}\n",
       "\\item[\\$region] \\begin{enumerate*}\n",
       "\\item 'Arica y Parinacota'\n",
       "\\item 'Tarapacá'\n",
       "\\end{enumerate*}\n",
       "\n",
       "\\item[\\$poblacion] \\begin{enumerate*}\n",
       "\\item 308271\n",
       "\\item 205566\n",
       "\\item 551627\n",
       "\\end{enumerate*}\n",
       "\n",
       "\\item[\\$superficie] \\begin{enumerate*}\n",
       "\\item 17446.2\n",
       "\\item 41632.6\n",
       "\\item 126048.8\n",
       "\\end{enumerate*}\n",
       "\n",
       "\\item[\\$codigo\\_region] \\begin{enumerate*}\n",
       "\\item 'XV'\n",
       "\\item 'I'\n",
       "\\item 'II'\n",
       "\\end{enumerate*}\n",
       "\n",
       "\\end{description}\n"
      ],
      "text/markdown": [
       "$region\n",
       ":   1. 'Arica y Parinacota'\n",
       "2. 'Tarapacá'\n",
       "\n",
       "\n",
       "\n",
       "$poblacion\n",
       ":   1. 308271\n",
       "2. 205566\n",
       "3. 551627\n",
       "\n",
       "\n",
       "\n",
       "$superficie\n",
       ":   1. 17446.2\n",
       "2. 41632.6\n",
       "3. 126048.8\n",
       "\n",
       "\n",
       "\n",
       "$codigo_region\n",
       ":   1. 'XV'\n",
       "2. 'I'\n",
       "3. 'II'\n",
       "\n",
       "\n",
       "\n",
       "\n",
       "\n"
      ],
      "text/plain": [
       "$region\n",
       "[1] \"Arica y Parinacota\" \"Tarapacá\"          \n",
       "\n",
       "$poblacion\n",
       "[1] 308271 205566 551627\n",
       "\n",
       "$superficie\n",
       "[1]  17446.2  41632.6 126048.8\n",
       "\n",
       "$codigo_region\n",
       "[1] \"XV\" \"I\"  \"II\"\n"
      ]
     },
     "metadata": {},
     "output_type": "display_data"
    }
   ],
   "source": [
    "region <- c(\"Arica y Parinacota\",\"Tarapacá\")\n",
    "poblacion <- c(308271,205566,551627)\n",
    "superficie <- c(17446.20,41632.60,126048.80)\n",
    "codigo_region <- c(\"XV\",\"I\",\"II\")\n",
    "\n",
    "chile = list(region=region, poblacion=poblacion, superficie=superficie, codigo_region=codigo_region)\n",
    "chile"
   ]
  },
  {
   "cell_type": "code",
   "execution_count": 139,
   "metadata": {
    "collapsed": false
   },
   "outputs": [
    {
     "data": {
      "text/html": [
       "<strong>$region</strong> = <ol class=list-inline>\n",
       "\t<li>'Arica y Parinacota'</li>\n",
       "\t<li>'Tarapacá'</li>\n",
       "</ol>\n"
      ],
      "text/latex": [
       "\\textbf{\\$region} = \\begin{enumerate*}\n",
       "\\item 'Arica y Parinacota'\n",
       "\\item 'Tarapacá'\n",
       "\\end{enumerate*}\n"
      ],
      "text/markdown": [
       "**$region** = 1. 'Arica y Parinacota'\n",
       "2. 'Tarapacá'\n",
       "\n",
       "\n"
      ],
      "text/plain": [
       "$region\n",
       "[1] \"Arica y Parinacota\" \"Tarapacá\"          \n"
      ]
     },
     "metadata": {},
     "output_type": "display_data"
    }
   ],
   "source": [
    "chile[\"region\"]"
   ]
  },
  {
   "cell_type": "code",
   "execution_count": 140,
   "metadata": {
    "collapsed": false
   },
   "outputs": [
    {
     "data": {
      "text/html": [
       "<dl>\n",
       "\t<dt>$region</dt>\n",
       "\t\t<dd><ol class=list-inline>\n",
       "\t<li>'Arica y Parinacota'</li>\n",
       "\t<li>'Tarapacá'</li>\n",
       "</ol>\n",
       "</dd>\n",
       "\t<dt>$poblacion</dt>\n",
       "\t\t<dd><ol class=list-inline>\n",
       "\t<li>308271</li>\n",
       "\t<li>205566</li>\n",
       "\t<li>551627</li>\n",
       "</ol>\n",
       "</dd>\n",
       "</dl>\n"
      ],
      "text/latex": [
       "\\begin{description}\n",
       "\\item[\\$region] \\begin{enumerate*}\n",
       "\\item 'Arica y Parinacota'\n",
       "\\item 'Tarapacá'\n",
       "\\end{enumerate*}\n",
       "\n",
       "\\item[\\$poblacion] \\begin{enumerate*}\n",
       "\\item 308271\n",
       "\\item 205566\n",
       "\\item 551627\n",
       "\\end{enumerate*}\n",
       "\n",
       "\\end{description}\n"
      ],
      "text/markdown": [
       "$region\n",
       ":   1. 'Arica y Parinacota'\n",
       "2. 'Tarapacá'\n",
       "\n",
       "\n",
       "\n",
       "$poblacion\n",
       ":   1. 308271\n",
       "2. 205566\n",
       "3. 551627\n",
       "\n",
       "\n",
       "\n",
       "\n",
       "\n"
      ],
      "text/plain": [
       "$region\n",
       "[1] \"Arica y Parinacota\" \"Tarapacá\"          \n",
       "\n",
       "$poblacion\n",
       "[1] 308271 205566 551627\n"
      ]
     },
     "metadata": {},
     "output_type": "display_data"
    }
   ],
   "source": [
    "chile[c(\"region\",\"poblacion\")]"
   ]
  },
  {
   "cell_type": "markdown",
   "metadata": {},
   "source": [
    "¿Que tal si queremos calcular la densidad de población?"
   ]
  },
  {
   "cell_type": "code",
   "execution_count": 141,
   "metadata": {
    "collapsed": false
   },
   "outputs": [
    {
     "ename": "ERROR",
     "evalue": "Error in chile[\"poblacion\"]/chile[\"superficie\"]: non-numeric argument to binary operator\n",
     "output_type": "error",
     "traceback": [
      "Error in chile[\"poblacion\"]/chile[\"superficie\"]: non-numeric argument to binary operator\nTraceback:\n"
     ]
    }
   ],
   "source": [
    "chile[\"poblacion\"]/chile[\"superficie\"]"
   ]
  },
  {
   "cell_type": "markdown",
   "metadata": {},
   "source": [
    "La razón por la cual falla es porque `chile[2]` sigue siendo una lista, y nosotros en verdad queremos acceder directamente al vector numérico. Para ello usamos llave cuadrada doble `[[]]` ."
   ]
  },
  {
   "cell_type": "code",
   "execution_count": 142,
   "metadata": {
    "collapsed": false
   },
   "outputs": [
    {
     "data": {
      "text/html": [
       "<ol class=list-inline>\n",
       "\t<li>17.6698077518313</li>\n",
       "\t<li>4.93762099892872</li>\n",
       "\t<li>4.37629711667227</li>\n",
       "</ol>\n"
      ],
      "text/latex": [
       "\\begin{enumerate*}\n",
       "\\item 17.6698077518313\n",
       "\\item 4.93762099892872\n",
       "\\item 4.37629711667227\n",
       "\\end{enumerate*}\n"
      ],
      "text/markdown": [
       "1. 17.6698077518313\n",
       "2. 4.93762099892872\n",
       "3. 4.37629711667227\n",
       "\n",
       "\n"
      ],
      "text/plain": [
       "[1] 17.669808  4.937621  4.376297"
      ]
     },
     "metadata": {},
     "output_type": "display_data"
    }
   ],
   "source": [
    "chile[[\"poblacion\"]]/chile[[\"superficie\"]]"
   ]
  },
  {
   "cell_type": "markdown",
   "metadata": {},
   "source": [
    "Como podemos ver, las listas son un tipo de objeto que puede contener diferentes tipos de datos. La f"
   ]
  },
  {
   "cell_type": "markdown",
   "metadata": {},
   "source": [
    "## Uso de Data Frame\n",
    "\n",
    "Un data frame es un tipo de objeto que comparte propiedades entre una lista y una matriz.   data frame is the most common way of storing data in R, and if used systematically makes data analysis easier. Under the hood, a data frame is a list of equal-length vectors. This makes it a 2-dimensional structure,  shares properties of both the matrix and the list. This means that a data frame has names(), colnames(), and rownames(), although names() and colnames() are the same thing. The length() of a data frame is the length of the underlying list and so is the same as ncol(); nrow() gives the number of rows."
   ]
  },
  {
   "cell_type": "code",
   "execution_count": null,
   "metadata": {
    "collapsed": true
   },
   "outputs": [],
   "source": []
  }
 ],
 "metadata": {
  "kernelspec": {
   "display_name": "R",
   "language": "R",
   "name": "ir"
  },
  "language_info": {
   "codemirror_mode": "r",
   "file_extension": ".r",
   "mimetype": "text/x-r-source",
   "name": "R",
   "pygments_lexer": "r",
   "version": "3.3.3"
  }
 },
 "nbformat": 4,
 "nbformat_minor": 2
}
