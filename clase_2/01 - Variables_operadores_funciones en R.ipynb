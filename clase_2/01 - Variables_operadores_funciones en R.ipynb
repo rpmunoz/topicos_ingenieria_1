{
 "cells": [
  {
   "cell_type": "markdown",
   "metadata": {},
   "source": [
    "# Variables, operadores y funciones en R"
   ]
  },
  {
   "cell_type": "code",
   "execution_count": null,
   "metadata": {
    "collapsed": false
   },
   "outputs": [],
   "source": [
    "Sys.setlocale(\"LC_ALL\", 'en_US.UTF-8')"
   ]
  },
  {
   "cell_type": "markdown",
   "metadata": {},
   "source": [
    "## Uso de variables tipo escalar\n",
    "\n",
    "En R existen múltiples manera de asignar valores a una variable"
   ]
  },
  {
   "cell_type": "code",
   "execution_count": null,
   "metadata": {
    "collapsed": false
   },
   "outputs": [],
   "source": [
    "x = 10\n",
    "x"
   ]
  },
  {
   "cell_type": "code",
   "execution_count": null,
   "metadata": {
    "collapsed": false
   },
   "outputs": [],
   "source": [
    "x <- 10\n",
    "x"
   ]
  },
  {
   "cell_type": "markdown",
   "metadata": {},
   "source": [
    "El operador = puede ser usado como instrucción a nivel del prompt o como subexpresión dentro de una lista. Eso sí, no puede ser evaluada como parámetro dentro de una función."
   ]
  },
  {
   "cell_type": "code",
   "execution_count": null,
   "metadata": {
    "collapsed": false
   },
   "outputs": [],
   "source": [
    "y=10\n",
    "y\n",
    "\n",
    "{\n",
    "    y=20\n",
    "    y\n",
    "}"
   ]
  },
  {
   "cell_type": "code",
   "execution_count": null,
   "metadata": {
    "collapsed": false
   },
   "outputs": [],
   "source": [
    "median(y = 1:10)\n",
    "y"
   ]
  },
  {
   "cell_type": "markdown",
   "metadata": {},
   "source": [
    "El operador <- puede ser usado como instrucción en cualquier nivel. Sí puede ser evaluado como parámetro dentro de una función."
   ]
  },
  {
   "cell_type": "code",
   "execution_count": null,
   "metadata": {
    "collapsed": false
   },
   "outputs": [],
   "source": [
    "y <- 10\n",
    "y\n",
    "\n",
    "{\n",
    "    y <- 20\n",
    "    y\n",
    "}"
   ]
  },
  {
   "cell_type": "code",
   "execution_count": null,
   "metadata": {
    "collapsed": false
   },
   "outputs": [],
   "source": [
    "median(y <- 1:10)\n",
    "y"
   ]
  },
  {
   "cell_type": "markdown",
   "metadata": {},
   "source": [
    "Operadores de comparación lógica\n",
    "\n",
    "* < para menor que\n",
    "* \\> para mayor que\n",
    "* <= para menor o igual que\n",
    "* \\>= para mayor o igual que\n",
    "* == para verificar si variables son iguales\n",
    "* != no son iguales entre ellas"
   ]
  },
  {
   "cell_type": "code",
   "execution_count": null,
   "metadata": {
    "collapsed": false
   },
   "outputs": [],
   "source": [
    "10 > 5"
   ]
  },
  {
   "cell_type": "code",
   "execution_count": null,
   "metadata": {
    "collapsed": false
   },
   "outputs": [],
   "source": [
    "10 < 5"
   ]
  },
  {
   "cell_type": "markdown",
   "metadata": {},
   "source": [
    "## Uso de variables tipo vector\n",
    "\n",
    "El análisis de datos en R se hace generalmente usando vectores, matrices y dataframes\n",
    "\n",
    "Para definir un vector en R usamos la función combine, la cual se llama con c()"
   ]
  },
  {
   "cell_type": "code",
   "execution_count": null,
   "metadata": {
    "collapsed": false
   },
   "outputs": [],
   "source": [
    "edad = c(35, 37, 30, 45, 40, 36, 45, 32, 52, 42, 30, 48 )\n",
    "edad"
   ]
  },
  {
   "cell_type": "markdown",
   "metadata": {},
   "source": [
    "Una vez definido el vector, uno puedo aplicar funciones estadísiticas tales como:\n",
    "\n",
    "- `mean`: Promedio\n",
    "- `median`: Mediana\n",
    "- `sd`: Desviación estándar"
   ]
  },
  {
   "cell_type": "code",
   "execution_count": null,
   "metadata": {
    "collapsed": false
   },
   "outputs": [],
   "source": [
    "mean(edad)\n",
    "median(edad)\n",
    "sd(edad)"
   ]
  },
  {
   "cell_type": "markdown",
   "metadata": {},
   "source": [
    "## Uso de variables tipo matriz\n",
    "\n",
    "Las variables tipo escalar y vector son útiles a la hora de analizar situaciones con pocos datos. Como iremos viendo a lo largo del curso, la mayoría de los proyectos de análsis de datos requieren usar bases de datos o tablas que contienen múltiples columnas y filas. Una manera de manipular este tipo de datos es usando matrices."
   ]
  },
  {
   "cell_type": "code",
   "execution_count": null,
   "metadata": {
    "collapsed": true
   },
   "outputs": [],
   "source": [
    "region = c(\"Arica y Parinacota\",\"Tarapacá\",\"Antofagasta\",\"Atacama\",\"Coquimbo\",\"Valparaíso\",\"Metropolitana de Santiago\",\"Libertador General Bernardo O'Higgins\",\"Maule\",\"Biobío\",\"La Araucanía\",\"Los Ríos\",\"Los Lagos\",\"Aisén del General Carlos Ibáñez del Campo\",\"Magallanes y de la Antártica Chilena\")\n",
    "poblacion = c(308271,205566,551627,292054,714856,1859312,7150480,903248,1073635,2025995,933537,380618,835829,106893,158828)\n",
    "superficie = c(17446.20,41632.60,126048.80,74806.30,40967.80,12646.28,15547.00,16583.30,30340.30,37068.70,31842.30,18577.60,48583.30,107449.40,1392783.70)"
   ]
  },
  {
   "cell_type": "code",
   "execution_count": null,
   "metadata": {
    "collapsed": false
   },
   "outputs": [],
   "source": [
    "class(region)\n",
    "class(poblacion)\n",
    "class(superficie)"
   ]
  },
  {
   "cell_type": "code",
   "execution_count": null,
   "metadata": {
    "collapsed": false,
    "scrolled": false
   },
   "outputs": [],
   "source": [
    "chile = matrix(c(poblacion,superficie), ncol=2, byrow=FALSE)\n",
    "chile"
   ]
  },
  {
   "cell_type": "code",
   "execution_count": null,
   "metadata": {
    "collapsed": false
   },
   "outputs": [],
   "source": [
    "class(chile)"
   ]
  },
  {
   "cell_type": "code",
   "execution_count": null,
   "metadata": {
    "collapsed": false
   },
   "outputs": [],
   "source": [
    "colnames(chile)=c(\"poblacion\",\"superficie\")\n",
    "rownames(chile)=region\n",
    "chile"
   ]
  },
  {
   "cell_type": "markdown",
   "metadata": {},
   "source": [
    "Una vez que los datos están ordenados en forma matricial, es mucho más fácil responder preguntas tales como\n",
    "\n",
    "- ¿Cuáles son las regiones con mayor población?\n",
    "- ¿Cuáles son las regiones más pequeñas en superficie?\n",
    "- ¿Cuáles son las regiones con la mayor densidad de población por $km^2$?"
   ]
  },
  {
   "cell_type": "code",
   "execution_count": null,
   "metadata": {
    "collapsed": false
   },
   "outputs": [],
   "source": [
    "chile[order(chile[,\"poblacion\"],decreasing=TRUE),]"
   ]
  },
  {
   "cell_type": "code",
   "execution_count": null,
   "metadata": {
    "collapsed": false
   },
   "outputs": [],
   "source": [
    "chile[order(chile[,\"superficie\"],decreasing=FALSE),]"
   ]
  },
  {
   "cell_type": "markdown",
   "metadata": {},
   "source": [
    "La densidad de población se define como el número de personas por unidad de superficie. En nuestro caso, sería simplemente dividir la columna `poblacion` por `superficie`."
   ]
  },
  {
   "cell_type": "code",
   "execution_count": null,
   "metadata": {
    "collapsed": false
   },
   "outputs": [],
   "source": [
    "chile[,'poblacion']/chile[,'superficie']"
   ]
  },
  {
   "cell_type": "code",
   "execution_count": null,
   "metadata": {
    "collapsed": false
   },
   "outputs": [],
   "source": [
    "densidad = poblacion/superficie\n",
    "densidad"
   ]
  },
  {
   "cell_type": "markdown",
   "metadata": {},
   "source": [
    "Para agregar columnas a una matriz usaremos la función `cbind()`"
   ]
  },
  {
   "cell_type": "code",
   "execution_count": null,
   "metadata": {
    "collapsed": false,
    "scrolled": false
   },
   "outputs": [],
   "source": [
    "chile <- cbind(chile, densidad)\n",
    "chile"
   ]
  },
  {
   "cell_type": "markdown",
   "metadata": {},
   "source": [
    "¿Qué sucede si queremos agregar una nueva columna que tiene datos mixtos, digamos numéricos y caractéres?"
   ]
  },
  {
   "cell_type": "code",
   "execution_count": null,
   "metadata": {
    "collapsed": false
   },
   "outputs": [],
   "source": [
    "codigo_region <- c(\"XV\",\"I\",\"II\",\"III\",\"IV\",\"V\",\"XIII\",\"VI\",\"VII\",\"VIII\",\"IX\",\"XIV\",\"X\",\"XI\",\"XII\")\n",
    "class(codigo_region)"
   ]
  },
  {
   "cell_type": "code",
   "execution_count": null,
   "metadata": {
    "collapsed": false
   },
   "outputs": [],
   "source": [
    "chile <- cbind(chile, codigo_region)\n",
    "chile"
   ]
  },
  {
   "cell_type": "code",
   "execution_count": null,
   "metadata": {
    "collapsed": false
   },
   "outputs": [],
   "source": [
    "class(chile)"
   ]
  },
  {
   "cell_type": "markdown",
   "metadata": {},
   "source": [
    "¿Que tal si queremos volver a calcular la densidad de población usando las columnas poblacion y superficie?"
   ]
  },
  {
   "cell_type": "code",
   "execution_count": null,
   "metadata": {
    "collapsed": false
   },
   "outputs": [],
   "source": [
    "chile[,'poblacion']/chile[,'superficie']"
   ]
  },
  {
   "cell_type": "markdown",
   "metadata": {},
   "source": [
    "¿Porqué falló la división si antes funcionaba? ¿Habrá sido porque incluimos la columna codigo_region la cual contenia tipos de datos mixtos?\n",
    "\n",
    "Partamos imprimiendo los tipos de clase de las columnas poblacion y superficie"
   ]
  },
  {
   "cell_type": "code",
   "execution_count": null,
   "metadata": {
    "collapsed": false
   },
   "outputs": [],
   "source": [
    "class(chile[,'poblacion'])\n",
    "class(chile[,'superficie'])"
   ]
  },
  {
   "cell_type": "markdown",
   "metadata": {},
   "source": [
    "¿Qué sucedió?\n",
    "\n",
    "La columna `codigo_region` es un vector que contiene datos de tipo caracter, y al ser incluida a la matriz todos los datos fueron convertidos al tipo de datos más general entre los tipos númerico y caracter: caracter.\n",
    "\n",
    "Aquí vemos una gran limitación del tipo de datos matriz: No puede almacenar tipos de datos mixtos."
   ]
  },
  {
   "cell_type": "markdown",
   "metadata": {},
   "source": [
    "## Uso de listas\n",
    "\n",
    "Una lista es un vector genérico que puede contener otro tipo de objectos. Una lista puede contener escalares, caracterés, vectores numéricos, etc."
   ]
  },
  {
   "cell_type": "code",
   "execution_count": null,
   "metadata": {
    "collapsed": false
   },
   "outputs": [],
   "source": [
    "region <- c(\"Arica y Parinacota\",\"Tarapacá\",\"Antofagasta\")\n",
    "poblacion <- c(308271,205566,551627)\n",
    "superficie <- c(17446.20,41632.60,126048.80)\n",
    "codigo_region <- c(\"XV\",\"I\",\"II\")\n",
    "\n",
    "# Podemos definir los labels de los elements usando names\n",
    "chile = list(region, poblacion, superficie, codigo_region)\n",
    "names(chile) = c(\"region\",\"poblacion\",\"superficie\",\"codigo_region\")\n",
    "chile\n",
    "\n",
    "# O directamente al momento de definir la lista\n",
    "chile = list(region=region, poblacion=poblacion, superficie=superficie, codigo_region=codigo_region)\n",
    "chile"
   ]
  },
  {
   "cell_type": "code",
   "execution_count": null,
   "metadata": {
    "collapsed": false
   },
   "outputs": [],
   "source": [
    "chile[\"region\"]"
   ]
  },
  {
   "cell_type": "code",
   "execution_count": null,
   "metadata": {
    "collapsed": false
   },
   "outputs": [],
   "source": [
    "chile[c(\"region\",\"poblacion\")]"
   ]
  },
  {
   "cell_type": "markdown",
   "metadata": {},
   "source": [
    "¿Que tal si queremos calcular la densidad de población?"
   ]
  },
  {
   "cell_type": "code",
   "execution_count": null,
   "metadata": {
    "collapsed": false
   },
   "outputs": [],
   "source": [
    "chile[\"poblacion\"]/chile[\"superficie\"]"
   ]
  },
  {
   "cell_type": "markdown",
   "metadata": {},
   "source": [
    "La razón por la cual falla es porque `chile[2]` sigue siendo una lista, y nosotros en verdad queremos acceder directamente al vector numérico. Para ello usamos llave cuadrada doble `[[]]` ."
   ]
  },
  {
   "cell_type": "code",
   "execution_count": null,
   "metadata": {
    "collapsed": false
   },
   "outputs": [],
   "source": [
    "chile[[\"poblacion\"]]/chile[[\"superficie\"]]"
   ]
  },
  {
   "cell_type": "markdown",
   "metadata": {},
   "source": [
    "Como podemos ver, las listas son un tipo de objeto que puede contener diferentes tipos de datos. A lo largo del curso iremos viendo situaciones donde las lostas son muy convenientes para almacenar datos."
   ]
  },
  {
   "cell_type": "markdown",
   "metadata": {},
   "source": [
    "## Uso de DataFrames\n",
    "\n",
    "Un dataframe es una estructura 2-dimensional que comparte propiedades entre una lista y una matriz. En estricto rigor, se define como una lista de vectores de igual largo.\n",
    "\n",
    "Al igual que una lista y una matriz, un dataframe tiene las propiedades `names()`, `colnames()` y `rownames()`. En el caso del dataframe,\n",
    "\n",
    "- Las funciones `names()` y `colnames()` son equivalentes, y asignam los nombres de las columnas\n",
    "- La función `rownames()` asigna los nombres de las filas\n",
    "- Las funciones `length()` y `ncol()` son equivalentes, y entregan el número de columnas\n",
    "- La propiedad `nrow()`entrega el número de filas"
   ]
  },
  {
   "cell_type": "code",
   "execution_count": null,
   "metadata": {
    "collapsed": false
   },
   "outputs": [],
   "source": [
    "region <- c(\"Arica y Parinacota\",\"Tarapacá\",\"Antofagasta\")\n",
    "poblacion <- c(308271,205566,551627)\n",
    "superficie <- c(17446.20,41632.60,126048.80)\n",
    "codigo_region <- c(\"XV\",\"I\",\"II\")\n",
    "\n",
    "chile <- data.frame(poblacion, superficie, codigo_region)\n",
    "colnames(chile) <- c(\"poblacion\",\"superficie\",\"codigo_region\")\n",
    "rownames(chile) <- region\n",
    "chile"
   ]
  },
  {
   "cell_type": "code",
   "execution_count": null,
   "metadata": {
    "collapsed": false
   },
   "outputs": [],
   "source": [
    "chile[\"poblacion\"]"
   ]
  },
  {
   "cell_type": "code",
   "execution_count": null,
   "metadata": {
    "collapsed": false
   },
   "outputs": [],
   "source": [
    "chile[\"densidad\"] <- chile[\"poblacion\"]/chile[\"superficie\"]\n",
    "chile"
   ]
  },
  {
   "cell_type": "code",
   "execution_count": null,
   "metadata": {
    "collapsed": false
   },
   "outputs": [],
   "source": [
    "region = c(\"Arica y Parinacota\",\"Tarapacá\",\"Antofagasta\",\"Atacama\",\"Coquimbo\",\"Valparaíso\",\"Metropolitana de Santiago\",\"Libertador General Bernardo O'Higgins\",\"Maule\",\"Biobío\",\"La Araucanía\",\"Los Ríos\",\"Los Lagos\",\"Aisén del General Carlos Ibáñez del Campo\",\"Magallanes y de la Antártica Chilena\")\n",
    "poblacion = c(308271,205566,551627,292054,714856,1859312,7150480,903248,1073635,2025995,933537,380618,835829,106893,158828)\n",
    "superficie = c(17446.20,41632.60,126048.80,74806.30,40967.80,12646.28,15547.00,16583.30,30340.30,37068.70,31842.30,18577.60,48583.30,107449.40,1392783.70)\n",
    "codigo_region <- c(\"XV\",\"I\",\"II\",\"III\",\"IV\",\"V\",\"XIII\",\"VI\",\"VII\",\"VIII\",\"IX\",\"XIV\",\"X\",\"XI\",\"XII\")\n",
    "\n",
    "chile <- data.frame(poblacion, superficie, codigo_region)\n",
    "colnames(chile) <- c(\"poblacion\",\"superficie\",\"codigo_region\")\n",
    "rownames(chile) <- region\n",
    "chile"
   ]
  },
  {
   "cell_type": "markdown",
   "metadata": {},
   "source": [
    "Ordenar los datos del dataframe usando una columna"
   ]
  },
  {
   "cell_type": "code",
   "execution_count": null,
   "metadata": {
    "collapsed": false
   },
   "outputs": [],
   "source": [
    "chile[order(poblacion),]"
   ]
  },
  {
   "cell_type": "code",
   "execution_count": null,
   "metadata": {
    "collapsed": false
   },
   "outputs": [],
   "source": [
    "chile[order(-poblacion),]"
   ]
  },
  {
   "cell_type": "markdown",
   "metadata": {},
   "source": [
    "Calcular promedios de columnas"
   ]
  },
  {
   "cell_type": "code",
   "execution_count": null,
   "metadata": {
    "collapsed": false
   },
   "outputs": [],
   "source": [
    "colMeans(chile[\"poblacion\"])"
   ]
  },
  {
   "cell_type": "code",
   "execution_count": null,
   "metadata": {
    "collapsed": false
   },
   "outputs": [],
   "source": [
    "colMeans(chile[1:2])"
   ]
  },
  {
   "cell_type": "markdown",
   "metadata": {},
   "source": [
    "Otra manera de calcular el promedio es usar la función `apply()`"
   ]
  },
  {
   "cell_type": "code",
   "execution_count": null,
   "metadata": {
    "collapsed": false
   },
   "outputs": [],
   "source": [
    "apply(chile[\"poblacion\"], 2, mean)"
   ]
  },
  {
   "cell_type": "code",
   "execution_count": null,
   "metadata": {
    "collapsed": false
   },
   "outputs": [],
   "source": [
    "apply(chile[\"poblacion\"], 2, sd)"
   ]
  },
  {
   "cell_type": "code",
   "execution_count": null,
   "metadata": {
    "collapsed": false
   },
   "outputs": [],
   "source": [
    "apply(chile[\"poblacion\"], 2, sum)"
   ]
  },
  {
   "cell_type": "markdown",
   "metadata": {},
   "source": [
    "Obtener un resumen del dataframe"
   ]
  },
  {
   "cell_type": "code",
   "execution_count": null,
   "metadata": {
    "collapsed": false
   },
   "outputs": [],
   "source": [
    "summary(chile)"
   ]
  },
  {
   "cell_type": "code",
   "execution_count": null,
   "metadata": {
    "collapsed": true
   },
   "outputs": [],
   "source": []
  }
 ],
 "metadata": {
  "kernelspec": {
   "display_name": "R",
   "language": "R",
   "name": "ir"
  },
  "language_info": {
   "codemirror_mode": "r",
   "file_extension": ".r",
   "mimetype": "text/x-r-source",
   "name": "R",
   "pygments_lexer": "r",
   "version": "3.3.3"
  }
 },
 "nbformat": 4,
 "nbformat_minor": 2
}
