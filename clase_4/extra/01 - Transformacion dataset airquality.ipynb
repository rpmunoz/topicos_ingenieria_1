{
 "cells": [
  {
   "cell_type": "code",
   "execution_count": 1,
   "metadata": {
    "collapsed": false
   },
   "outputs": [
    {
     "data": {
      "text/html": [
       "<table>\n",
       "<thead><tr><th scope=col>Ozone</th><th scope=col>Solar.R</th><th scope=col>Wind</th><th scope=col>Temp</th><th scope=col>Month</th><th scope=col>Day</th></tr></thead>\n",
       "<tbody>\n",
       "\t<tr><td>41  </td><td>190 </td><td> 7.4</td><td>67  </td><td>5   </td><td>1   </td></tr>\n",
       "\t<tr><td>36  </td><td>118 </td><td> 8.0</td><td>72  </td><td>5   </td><td>2   </td></tr>\n",
       "\t<tr><td>12  </td><td>149 </td><td>12.6</td><td>74  </td><td>5   </td><td>3   </td></tr>\n",
       "\t<tr><td>18  </td><td>313 </td><td>11.5</td><td>62  </td><td>5   </td><td>4   </td></tr>\n",
       "\t<tr><td>NA  </td><td> NA </td><td>14.3</td><td>56  </td><td>5   </td><td>5   </td></tr>\n",
       "\t<tr><td>28  </td><td> NA </td><td>14.9</td><td>66  </td><td>5   </td><td>6   </td></tr>\n",
       "</tbody>\n",
       "</table>\n"
      ],
      "text/latex": [
       "\\begin{tabular}{r|llllll}\n",
       " Ozone & Solar.R & Wind & Temp & Month & Day\\\\\n",
       "\\hline\n",
       "\t 41   & 190  &  7.4 & 67   & 5    & 1   \\\\\n",
       "\t 36   & 118  &  8.0 & 72   & 5    & 2   \\\\\n",
       "\t 12   & 149  & 12.6 & 74   & 5    & 3   \\\\\n",
       "\t 18   & 313  & 11.5 & 62   & 5    & 4   \\\\\n",
       "\t NA   &  NA  & 14.3 & 56   & 5    & 5   \\\\\n",
       "\t 28   &  NA  & 14.9 & 66   & 5    & 6   \\\\\n",
       "\\end{tabular}\n"
      ],
      "text/markdown": [
       "\n",
       "Ozone | Solar.R | Wind | Temp | Month | Day | \n",
       "|---|---|---|---|---|---|\n",
       "| 41   | 190  |  7.4 | 67   | 5    | 1    | \n",
       "| 36   | 118  |  8.0 | 72   | 5    | 2    | \n",
       "| 12   | 149  | 12.6 | 74   | 5    | 3    | \n",
       "| 18   | 313  | 11.5 | 62   | 5    | 4    | \n",
       "| NA   |  NA  | 14.3 | 56   | 5    | 5    | \n",
       "| 28   |  NA  | 14.9 | 66   | 5    | 6    | \n",
       "\n",
       "\n"
      ],
      "text/plain": [
       "  Ozone Solar.R Wind Temp Month Day\n",
       "1 41    190      7.4 67   5     1  \n",
       "2 36    118      8.0 72   5     2  \n",
       "3 12    149     12.6 74   5     3  \n",
       "4 18    313     11.5 62   5     4  \n",
       "5 NA     NA     14.3 56   5     5  \n",
       "6 28     NA     14.9 66   5     6  "
      ]
     },
     "metadata": {},
     "output_type": "display_data"
    }
   ],
   "source": [
    "library(datasets)\n",
    "head(airquality)"
   ]
  },
  {
   "cell_type": "code",
   "execution_count": 2,
   "metadata": {
    "collapsed": false
   },
   "outputs": [
    {
     "data": {
      "text/html": [
       "<table>\n",
       "<thead><tr><th scope=col>Ozono</th><th scope=col>Radiacion_solar</th><th scope=col>Viento</th><th scope=col>Temperatura</th><th scope=col>Mes</th><th scope=col>Dia</th></tr></thead>\n",
       "<tbody>\n",
       "\t<tr><td>41   </td><td>190  </td><td>11.91</td><td>19.4 </td><td>5    </td><td>1    </td></tr>\n",
       "\t<tr><td>36   </td><td>118  </td><td>12.87</td><td>22.2 </td><td>5    </td><td>2    </td></tr>\n",
       "\t<tr><td>12   </td><td>149  </td><td>20.28</td><td>23.3 </td><td>5    </td><td>3    </td></tr>\n",
       "\t<tr><td>18   </td><td>313  </td><td>18.51</td><td>16.7 </td><td>5    </td><td>4    </td></tr>\n",
       "\t<tr><td>NA   </td><td> NA  </td><td>23.01</td><td>13.3 </td><td>5    </td><td>5    </td></tr>\n",
       "\t<tr><td>28   </td><td> NA  </td><td>23.98</td><td>18.9 </td><td>5    </td><td>6    </td></tr>\n",
       "</tbody>\n",
       "</table>\n"
      ],
      "text/latex": [
       "\\begin{tabular}{r|llllll}\n",
       " Ozono & Radiacion\\_solar & Viento & Temperatura & Mes & Dia\\\\\n",
       "\\hline\n",
       "\t 41    & 190   & 11.91 & 19.4  & 5     & 1    \\\\\n",
       "\t 36    & 118   & 12.87 & 22.2  & 5     & 2    \\\\\n",
       "\t 12    & 149   & 20.28 & 23.3  & 5     & 3    \\\\\n",
       "\t 18    & 313   & 18.51 & 16.7  & 5     & 4    \\\\\n",
       "\t NA    &  NA   & 23.01 & 13.3  & 5     & 5    \\\\\n",
       "\t 28    &  NA   & 23.98 & 18.9  & 5     & 6    \\\\\n",
       "\\end{tabular}\n"
      ],
      "text/markdown": [
       "\n",
       "Ozono | Radiacion_solar | Viento | Temperatura | Mes | Dia | \n",
       "|---|---|---|---|---|---|\n",
       "| 41    | 190   | 11.91 | 19.4  | 5     | 1     | \n",
       "| 36    | 118   | 12.87 | 22.2  | 5     | 2     | \n",
       "| 12    | 149   | 20.28 | 23.3  | 5     | 3     | \n",
       "| 18    | 313   | 18.51 | 16.7  | 5     | 4     | \n",
       "| NA    |  NA   | 23.01 | 13.3  | 5     | 5     | \n",
       "| 28    |  NA   | 23.98 | 18.9  | 5     | 6     | \n",
       "\n",
       "\n"
      ],
      "text/plain": [
       "  Ozono Radiacion_solar Viento Temperatura Mes Dia\n",
       "1 41    190             11.91  19.4        5   1  \n",
       "2 36    118             12.87  22.2        5   2  \n",
       "3 12    149             20.28  23.3        5   3  \n",
       "4 18    313             18.51  16.7        5   4  \n",
       "5 NA     NA             23.01  13.3        5   5  \n",
       "6 28     NA             23.98  18.9        5   6  "
      ]
     },
     "metadata": {},
     "output_type": "display_data"
    }
   ],
   "source": [
    "colnames(airquality) <- c(\"Ozono\",\"Radiacion_solar\",\"Viento\",\"Temperatura\",\"Mes\", \"Dia\")\n",
    "airquality[\"Viento\"] <- round(airquality[\"Viento\"]*1.60934,2)\n",
    "airquality[\"Temperatura\"] <- round((airquality[\"Temperatura\"]-32)*5/9,1)\n",
    "head(airquality)"
   ]
  },
  {
   "cell_type": "code",
   "execution_count": 4,
   "metadata": {
    "collapsed": false
   },
   "outputs": [],
   "source": [
    "write.csv(airquality, file = \"../data/nyc_calidad_aire.csv\", row.names=FALSE)"
   ]
  },
  {
   "cell_type": "code",
   "execution_count": null,
   "metadata": {
    "collapsed": true
   },
   "outputs": [],
   "source": []
  }
 ],
 "metadata": {
  "kernelspec": {
   "display_name": "R",
   "language": "R",
   "name": "ir"
  },
  "language_info": {
   "codemirror_mode": "r",
   "file_extension": ".r",
   "mimetype": "text/x-r-source",
   "name": "R",
   "pygments_lexer": "r",
   "version": "3.3.3"
  }
 },
 "nbformat": 4,
 "nbformat_minor": 2
}
