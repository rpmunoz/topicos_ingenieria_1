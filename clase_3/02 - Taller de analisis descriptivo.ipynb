{
 "cells": [
  {
   "cell_type": "markdown",
   "metadata": {},
   "source": [
    "# Taller de análisis descriptivo"
   ]
  },
  {
   "cell_type": "markdown",
   "metadata": {},
   "source": [
    "Curso: Topicos de especializacion 1\n",
    "\n",
    "Fecha: 12-06-2017\n",
    "\n",
    "Integrantes:\n",
    "- Nombre1: \n",
    "- Nombre2: \n",
    "- Nombre3: "
   ]
  },
  {
   "cell_type": "code",
   "execution_count": 3,
   "metadata": {
    "collapsed": false
   },
   "outputs": [
    {
     "data": {
      "text/html": [
       "'en_US.UTF-8/en_US.UTF-8/en_US.UTF-8/C/en_US.UTF-8/C'"
      ],
      "text/latex": [
       "'en\\_US.UTF-8/en\\_US.UTF-8/en\\_US.UTF-8/C/en\\_US.UTF-8/C'"
      ],
      "text/markdown": [
       "'en_US.UTF-8/en_US.UTF-8/en_US.UTF-8/C/en_US.UTF-8/C'"
      ],
      "text/plain": [
       "[1] \"en_US.UTF-8/en_US.UTF-8/en_US.UTF-8/C/en_US.UTF-8/C\""
      ]
     },
     "metadata": {},
     "output_type": "display_data"
    }
   ],
   "source": [
    "Sys.setlocale(\"LC_ALL\", 'en_US.UTF-8')"
   ]
  },
  {
   "cell_type": "code",
   "execution_count": 4,
   "metadata": {
    "collapsed": false
   },
   "outputs": [
    {
     "name": "stderr",
     "output_type": "stream",
     "text": [
      "\n",
      "Attaching package: ‘dplyr’\n",
      "\n",
      "The following objects are masked from ‘package:stats’:\n",
      "\n",
      "    filter, lag\n",
      "\n",
      "The following objects are masked from ‘package:base’:\n",
      "\n",
      "    intersect, setdiff, setequal, union\n",
      "\n"
     ]
    }
   ],
   "source": [
    "library(dplyr)"
   ]
  },
  {
   "cell_type": "code",
   "execution_count": 24,
   "metadata": {
    "collapsed": true
   },
   "outputs": [],
   "source": [
    "file=\"data/chile_demographic.csv\"\n",
    "\n",
    "chile = read.csv(file)"
   ]
  },
  {
   "cell_type": "code",
   "execution_count": 25,
   "metadata": {
    "collapsed": false
   },
   "outputs": [
    {
     "data": {
      "text/html": [
       "<table>\n",
       "<thead><tr><th scope=col>RegionID</th><th scope=col>Region</th><th scope=col>Provincia</th><th scope=col>Comuna</th><th scope=col>Superficie</th><th scope=col>Poblacion</th><th scope=col>Densidad</th><th scope=col>IDH_2005</th></tr></thead>\n",
       "<tbody>\n",
       "\t<tr><td>1                   </td><td>Arica y Parinacota  </td><td>Arica               </td><td>Arica               </td><td> 4799.4             </td><td>210936              </td><td>38.4                </td><td>0.736               </td></tr>\n",
       "\t<tr><td>1                   </td><td>Arica y Parinacota  </td><td>Arica               </td><td>Camarones           </td><td> 3927.0             </td><td>   679              </td><td> 0.3                </td><td>0.751               </td></tr>\n",
       "\t<tr><td>1                   </td><td>Arica y Parinacota  </td><td>Parinacota          </td><td>General Lagos       </td><td> 2244.4             </td><td>   739              </td><td> 0.5                </td><td>0.670               </td></tr>\n",
       "\t<tr><td>1                   </td><td>Arica y Parinacota  </td><td>Parinacota          </td><td>Putre               </td><td> 5902.5             </td><td>  1462              </td><td> 0.2                </td><td>0.707               </td></tr>\n",
       "\t<tr><td>1                   </td><td>Arica y Parinacota  </td><td>Iquique             </td><td>Alto Hospicio       </td><td>  572.9             </td><td> 94455              </td><td>87.6                </td><td>   NA               </td></tr>\n",
       "\t<tr><td>2                   </td><td>Tarapacá            </td><td>Tamarugal           </td><td>Camiña              </td><td> 2200.2             </td><td>  1156              </td><td> 0.5                </td><td>0.619               </td></tr>\n",
       "\t<tr><td>2                   </td><td>Tarapacá            </td><td>Tamarugal           </td><td>Colchane            </td><td> 4015.6             </td><td>  1384              </td><td> 0.4                </td><td>0.603               </td></tr>\n",
       "\t<tr><td>2                   </td><td>Tarapacá            </td><td>Tamarugal           </td><td>Huara               </td><td>10474.6             </td><td>  2360              </td><td> 0.2                </td><td>0.676               </td></tr>\n",
       "\t<tr><td>2                   </td><td>Tarapacá            </td><td>Iquique             </td><td>Iquique             </td><td> 2242.1             </td><td>184953              </td><td>82.4                </td><td>0.766               </td></tr>\n",
       "\t<tr><td>2                   </td><td>Tarapacá            </td><td>Tamarugal           </td><td>Pica                </td><td> 8934.3             </td><td>  4194              </td><td> 0.6                </td><td>0.793               </td></tr>\n",
       "\t<tr><td>2                   </td><td>Tarapacá            </td><td>Tamarugal           </td><td>Pozo Almonte        </td><td>13765.8             </td><td> 11519              </td><td> 0.7                </td><td>0.722               </td></tr>\n",
       "\t<tr><td>3                   </td><td>Antofagasta         </td><td>Antofagasta         </td><td>Antofagasta         </td><td>30718.1             </td><td>348669              </td><td> 9.7                </td><td>0.734               </td></tr>\n",
       "\t<tr><td>3                   </td><td>Antofagasta         </td><td>El Loa              </td><td>Calama              </td><td>15596.9             </td><td>147886              </td><td> 9.1                </td><td>0.757               </td></tr>\n",
       "\t<tr><td>3                   </td><td>Antofagasta         </td><td>Tocopilla           </td><td>María Elena         </td><td>12197.0             </td><td>  4593              </td><td> 0.6                </td><td>0.779               </td></tr>\n",
       "\t<tr><td>3                   </td><td>Antofagasta         </td><td>Antofagasta         </td><td>Mejillones          </td><td> 3803.9             </td><td>  9752              </td><td> 2.2                </td><td>0.730               </td></tr>\n",
       "\t<tr><td>3                   </td><td>Antofagasta         </td><td>El Loa              </td><td>Ollagüe             </td><td> 2964.0             </td><td>   332              </td><td> 0.1                </td><td>0.679               </td></tr>\n",
       "\t<tr><td>3                   </td><td>Antofagasta         </td><td>El Loa              </td><td>San Pedro de Atacama</td><td>23439.0             </td><td>  5605              </td><td> 0.2                </td><td>0.711               </td></tr>\n",
       "\t<tr><td>3                   </td><td>Antofagasta         </td><td>Antofagasta         </td><td>Sierra Gorda        </td><td>12886.0             </td><td>  1206              </td><td> 0.1                </td><td>0.789               </td></tr>\n",
       "\t<tr><td>3                   </td><td>Antofagasta         </td><td>Antofagasta         </td><td>Taltal              </td><td>20405.1             </td><td> 13493              </td><td> 0.5                </td><td>0.716               </td></tr>\n",
       "\t<tr><td>3                   </td><td>Antofagasta         </td><td>Tocopilla           </td><td>Tocopilla           </td><td> 4038.8             </td><td> 20091              </td><td> 5.9                </td><td>0.690               </td></tr>\n",
       "\t<tr><td>4                   </td><td>Atacama             </td><td>Huasco              </td><td>Alto del Carmen     </td><td> 5939.0             </td><td>  5488              </td><td> 0.8                </td><td>0.664               </td></tr>\n",
       "\t<tr><td>4                   </td><td>Atacama             </td><td>Copiapó             </td><td>Caldera             </td><td> 4666.6             </td><td> 16150              </td><td> 2.9                </td><td>0.741               </td></tr>\n",
       "\t<tr><td>4                   </td><td>Atacama             </td><td>Chañaral            </td><td>Chañaral            </td><td> 5772.0             </td><td> 14146              </td><td> 2.2                </td><td>0.714               </td></tr>\n",
       "\t<tr><td>4                   </td><td>Atacama             </td><td>Copiapó             </td><td>Copiapó             </td><td>16681.3             </td><td>158261              </td><td>11.9                </td><td>0.725               </td></tr>\n",
       "\t<tr><td>4                   </td><td>Atacama             </td><td>Chañaral            </td><td>Diego de Almagro    </td><td>18664.0             </td><td> 16452              </td><td> 1.0                </td><td>0.789               </td></tr>\n",
       "\t<tr><td>4                   </td><td>Atacama             </td><td>Huasco              </td><td>Freirina            </td><td> 3207.0             </td><td>  6531              </td><td> 1.7                </td><td>0.693               </td></tr>\n",
       "\t<tr><td>4                   </td><td>Atacama             </td><td>Huasco              </td><td>Huasco              </td><td> 1601.4             </td><td>  9015              </td><td> 5.6                </td><td>0.695               </td></tr>\n",
       "\t<tr><td>4                   </td><td>Atacama             </td><td>Copiapó             </td><td>Tierra Amarilla     </td><td>11191.0             </td><td> 13912              </td><td> 1.1                </td><td>0.686               </td></tr>\n",
       "\t<tr><td>4                   </td><td>Atacama             </td><td>Huasco              </td><td>Vallenar            </td><td> 7084.0             </td><td> 52099              </td><td> 6.7                </td><td>0.731               </td></tr>\n",
       "\t<tr><td>5                   </td><td>Coquimbo            </td><td>Elqui               </td><td>Andacollo           </td><td>  310.0             </td><td> 11116              </td><td>33.1                </td><td>0.675               </td></tr>\n",
       "\t<tr><td>⋮</td><td>⋮</td><td>⋮</td><td>⋮</td><td>⋮</td><td>⋮</td><td>⋮</td><td>⋮</td></tr>\n",
       "\t<tr><td>13                                       </td><td>Los Lagos                                </td><td>Osorno                                   </td><td>Purranque                                </td><td>   1458.8                                </td><td> 20768                                   </td><td>14.2                                     </td><td>0.627                                    </td></tr>\n",
       "\t<tr><td>13                                       </td><td>Los Lagos                                </td><td>Osorno                                   </td><td>Puyehue                                  </td><td>   1597.9                                </td><td> 11370                                   </td><td> 7.1                                     </td><td>0.675                                    </td></tr>\n",
       "\t<tr><td>13                                       </td><td>Los Lagos                                </td><td>Chiloé                                   </td><td>Queilén                                  </td><td>    332.9                                </td><td>  5319                                   </td><td>16.0                                     </td><td>0.646                                    </td></tr>\n",
       "\t<tr><td>13                                       </td><td>Los Lagos                                </td><td>Chiloé                                   </td><td>Quellón                                  </td><td>   3244.0                                </td><td> 30964                                   </td><td> 9.5                                     </td><td>0.670                                    </td></tr>\n",
       "\t<tr><td>13                                       </td><td>Los Lagos                                </td><td>Chiloé                                   </td><td>Quemchi                                  </td><td>    440.3                                </td><td>  9191                                   </td><td>20.9                                     </td><td>0.656                                    </td></tr>\n",
       "\t<tr><td>13                                       </td><td>Los Lagos                                </td><td>Chiloé                                   </td><td>Quinchao                                 </td><td>    160.7                                </td><td>  9043                                   </td><td>56.3                                     </td><td>0.648                                    </td></tr>\n",
       "\t<tr><td>13                                       </td><td>Los Lagos                                </td><td>Osorno                                   </td><td>Río Negro                                </td><td>   1265.7                                </td><td> 13425                                   </td><td>10.6                                     </td><td>0.633                                    </td></tr>\n",
       "\t<tr><td>13                                       </td><td>Los Lagos                                </td><td>Osorno                                   </td><td>San Juan de la Costa                     </td><td>   1517.0                                </td><td>  7997                                   </td><td> 5.3                                     </td><td>0.510                                    </td></tr>\n",
       "\t<tr><td>13                                       </td><td>Los Lagos                                </td><td>Osorno                                   </td><td>San Pablo                                </td><td>    637.3                                </td><td>  9150                                   </td><td>14.4                                     </td><td>0.625                                    </td></tr>\n",
       "\t<tr><td>14                                       </td><td>Aisén del General Carlos Ibáñez del Campo</td><td>Aysén                                    </td><td>Aysén                                    </td><td>  29796.4                                </td><td> 27187                                   </td><td> 0.9                                     </td><td>0.674                                    </td></tr>\n",
       "\t<tr><td>14                                       </td><td>Aisén del General Carlos Ibáñez del Campo</td><td>General Carrera                          </td><td>Chile Chico                              </td><td>   5737.1                                </td><td>  5334                                   </td><td> 0.8                                     </td><td>0.707                                    </td></tr>\n",
       "\t<tr><td>14                                       </td><td>Aisén del General Carlos Ibáñez del Campo</td><td>Aysén                                    </td><td>Cisnes                                   </td><td>  16093.0                                </td><td>  6166                                   </td><td> 0.3                                     </td><td>0.725                                    </td></tr>\n",
       "\t<tr><td>14                                       </td><td>Aisén del General Carlos Ibáñez del Campo</td><td>Capitán Prat                             </td><td>Cochrane                                 </td><td>   8599.5                                </td><td>  2759                                   </td><td> 0.3                                     </td><td>0.668                                    </td></tr>\n",
       "\t<tr><td>14                                       </td><td>Aisén del General Carlos Ibáñez del Campo</td><td>Coyhaique                                </td><td>Coyhaique                                </td><td>   7290.2                                </td><td> 59221                                   </td><td> 6.8                                     </td><td>0.751                                    </td></tr>\n",
       "\t<tr><td>14                                       </td><td>Aisén del General Carlos Ibáñez del Campo</td><td>Aysén                                    </td><td>Guaitecas                                </td><td>    620.6                                </td><td>  1862                                   </td><td> 2.4                                     </td><td>0.654                                    </td></tr>\n",
       "\t<tr><td>14                                       </td><td>Aisén del General Carlos Ibáñez del Campo</td><td>Coyhaique                                </td><td>Lago Verde                               </td><td>   5422.3                                </td><td>   925                                   </td><td> 0.2                                     </td><td>0.637                                    </td></tr>\n",
       "\t<tr><td>14                                       </td><td>Aisén del General Carlos Ibáñez del Campo</td><td>Capitán Prat                             </td><td>O'Higgins                                </td><td>   8182.5                                </td><td>   700                                   </td><td> 0.1                                     </td><td>0.572                                    </td></tr>\n",
       "\t<tr><td>14                                       </td><td>Aisén del General Carlos Ibáñez del Campo</td><td>General Carrera                          </td><td>Río Ibáñez                               </td><td>   5997.2                                </td><td>  2208                                   </td><td> 0.4                                     </td><td>0.654                                    </td></tr>\n",
       "\t<tr><td>14                                       </td><td>Aisén del General Carlos Ibáñez del Campo</td><td>Capitán Prat                             </td><td>Tortel                                   </td><td>  19710.6                                </td><td>   531                                   </td><td> 0.0                                     </td><td>0.655                                    </td></tr>\n",
       "\t<tr><td>15                                       </td><td>Magallanes y de la Antártica Chilena     </td><td>Antártica Chilena                        </td><td>Antártica                                </td><td>1250257.6                                </td><td>   127                                   </td><td> 0.0                                     </td><td>   NA                                    </td></tr>\n",
       "\t<tr><td>15                                       </td><td>Magallanes y de la Antártica Chilena     </td><td>Antártica Chilena                        </td><td>Cabo de Hornos                           </td><td>  15578.7                                </td><td>  1677                                   </td><td> 0.1                                     </td><td>0.806                                    </td></tr>\n",
       "\t<tr><td>15                                       </td><td>Magallanes y de la Antártica Chilena     </td><td>Magallanes                               </td><td>Laguna Blanca                            </td><td>   3695.6                                </td><td>   631                                   </td><td> 0.0                                     </td><td>0.785                                    </td></tr>\n",
       "\t<tr><td>15                                       </td><td>Magallanes y de la Antártica Chilena     </td><td>Última Esperanza                         </td><td>Natales                                  </td><td>  49924.1                                </td><td> 21327                                   </td><td> 0.4                                     </td><td>0.699                                    </td></tr>\n",
       "\t<tr><td>15                                       </td><td>Magallanes y de la Antártica Chilena     </td><td>Tierra del Fuego                         </td><td>Porvenir                                 </td><td>   9707.4                                </td><td>  5650                                   </td><td> 0.8                                     </td><td>0.731                                    </td></tr>\n",
       "\t<tr><td>15                                       </td><td>Magallanes y de la Antártica Chilena     </td><td>Tierra del Fuego                         </td><td>Primavera                                </td><td>   4253.4                                </td><td>   803                                   </td><td> 0.2                                     </td><td>0.774                                    </td></tr>\n",
       "\t<tr><td>15                                       </td><td>Magallanes y de la Antártica Chilena     </td><td>Magallanes                               </td><td>Punta Arenas                             </td><td>  17846.3                                </td><td>125483                                   </td><td> 6.8                                     </td><td>0.748                                    </td></tr>\n",
       "\t<tr><td>15                                       </td><td>Magallanes y de la Antártica Chilena     </td><td>Magallanes                               </td><td>Río Verde                                </td><td>  17248.0                                </td><td>   363                                   </td><td> 0.0                                     </td><td>0.784                                    </td></tr>\n",
       "\t<tr><td>15                                       </td><td>Magallanes y de la Antártica Chilena     </td><td>Magallanes                               </td><td>San Gregorio                             </td><td>   6883.7                                </td><td>   731                                   </td><td> 0.1                                     </td><td>0.823                                    </td></tr>\n",
       "\t<tr><td>15                                       </td><td>Magallanes y de la Antártica Chilena     </td><td>Tierra del Fuego                         </td><td>Timaukel                                 </td><td>  10758.9                                </td><td>   873                                   </td><td> 0.1                                     </td><td>0.717                                    </td></tr>\n",
       "\t<tr><td>15                                       </td><td>Magallanes y de la Antártica Chilena     </td><td>Última Esperanza                         </td><td>Torres del Paine                         </td><td>   6630.0                                </td><td>  1163                                   </td><td> 0.1                                     </td><td>0.730                                    </td></tr>\n",
       "</tbody>\n",
       "</table>\n"
      ],
      "text/latex": [
       "\\begin{tabular}{r|llllllll}\n",
       " RegionID & Region & Provincia & Comuna & Superficie & Poblacion & Densidad & IDH\\_2005\\\\\n",
       "\\hline\n",
       "\t 1                    & Arica y Parinacota   & Arica                & Arica                &  4799.4              & 210936               & 38.4                 & 0.736               \\\\\n",
       "\t 1                    & Arica y Parinacota   & Arica                & Camarones            &  3927.0              &    679               &  0.3                 & 0.751               \\\\\n",
       "\t 1                    & Arica y Parinacota   & Parinacota           & General Lagos        &  2244.4              &    739               &  0.5                 & 0.670               \\\\\n",
       "\t 1                    & Arica y Parinacota   & Parinacota           & Putre                &  5902.5              &   1462               &  0.2                 & 0.707               \\\\\n",
       "\t 1                    & Arica y Parinacota   & Iquique              & Alto Hospicio        &   572.9              &  94455               & 87.6                 &    NA               \\\\\n",
       "\t 2                    & Tarapacá             & Tamarugal            & Camiña               &  2200.2              &   1156               &  0.5                 & 0.619               \\\\\n",
       "\t 2                    & Tarapacá             & Tamarugal            & Colchane             &  4015.6              &   1384               &  0.4                 & 0.603               \\\\\n",
       "\t 2                    & Tarapacá             & Tamarugal            & Huara                & 10474.6              &   2360               &  0.2                 & 0.676               \\\\\n",
       "\t 2                    & Tarapacá             & Iquique              & Iquique              &  2242.1              & 184953               & 82.4                 & 0.766               \\\\\n",
       "\t 2                    & Tarapacá             & Tamarugal            & Pica                 &  8934.3              &   4194               &  0.6                 & 0.793               \\\\\n",
       "\t 2                    & Tarapacá             & Tamarugal            & Pozo Almonte         & 13765.8              &  11519               &  0.7                 & 0.722               \\\\\n",
       "\t 3                    & Antofagasta          & Antofagasta          & Antofagasta          & 30718.1              & 348669               &  9.7                 & 0.734               \\\\\n",
       "\t 3                    & Antofagasta          & El Loa               & Calama               & 15596.9              & 147886               &  9.1                 & 0.757               \\\\\n",
       "\t 3                    & Antofagasta          & Tocopilla            & María Elena          & 12197.0              &   4593               &  0.6                 & 0.779               \\\\\n",
       "\t 3                    & Antofagasta          & Antofagasta          & Mejillones           &  3803.9              &   9752               &  2.2                 & 0.730               \\\\\n",
       "\t 3                    & Antofagasta          & El Loa               & Ollagüe              &  2964.0              &    332               &  0.1                 & 0.679               \\\\\n",
       "\t 3                    & Antofagasta          & El Loa               & San Pedro de Atacama & 23439.0              &   5605               &  0.2                 & 0.711               \\\\\n",
       "\t 3                    & Antofagasta          & Antofagasta          & Sierra Gorda         & 12886.0              &   1206               &  0.1                 & 0.789               \\\\\n",
       "\t 3                    & Antofagasta          & Antofagasta          & Taltal               & 20405.1              &  13493               &  0.5                 & 0.716               \\\\\n",
       "\t 3                    & Antofagasta          & Tocopilla            & Tocopilla            &  4038.8              &  20091               &  5.9                 & 0.690               \\\\\n",
       "\t 4                    & Atacama              & Huasco               & Alto del Carmen      &  5939.0              &   5488               &  0.8                 & 0.664               \\\\\n",
       "\t 4                    & Atacama              & Copiapó              & Caldera              &  4666.6              &  16150               &  2.9                 & 0.741               \\\\\n",
       "\t 4                    & Atacama              & Chañaral             & Chañaral             &  5772.0              &  14146               &  2.2                 & 0.714               \\\\\n",
       "\t 4                    & Atacama              & Copiapó              & Copiapó              & 16681.3              & 158261               & 11.9                 & 0.725               \\\\\n",
       "\t 4                    & Atacama              & Chañaral             & Diego de Almagro     & 18664.0              &  16452               &  1.0                 & 0.789               \\\\\n",
       "\t 4                    & Atacama              & Huasco               & Freirina             &  3207.0              &   6531               &  1.7                 & 0.693               \\\\\n",
       "\t 4                    & Atacama              & Huasco               & Huasco               &  1601.4              &   9015               &  5.6                 & 0.695               \\\\\n",
       "\t 4                    & Atacama              & Copiapó              & Tierra Amarilla      & 11191.0              &  13912               &  1.1                 & 0.686               \\\\\n",
       "\t 4                    & Atacama              & Huasco               & Vallenar             &  7084.0              &  52099               &  6.7                 & 0.731               \\\\\n",
       "\t 5                    & Coquimbo             & Elqui                & Andacollo            &   310.0              &  11116               & 33.1                 & 0.675               \\\\\n",
       "\t ⋮ & ⋮ & ⋮ & ⋮ & ⋮ & ⋮ & ⋮ & ⋮\\\\\n",
       "\t 13                                        & Los Lagos                                 & Osorno                                    & Purranque                                 &    1458.8                                 &  20768                                    & 14.2                                      & 0.627                                    \\\\\n",
       "\t 13                                        & Los Lagos                                 & Osorno                                    & Puyehue                                   &    1597.9                                 &  11370                                    &  7.1                                      & 0.675                                    \\\\\n",
       "\t 13                                        & Los Lagos                                 & Chiloé                                    & Queilén                                   &     332.9                                 &   5319                                    & 16.0                                      & 0.646                                    \\\\\n",
       "\t 13                                        & Los Lagos                                 & Chiloé                                    & Quellón                                   &    3244.0                                 &  30964                                    &  9.5                                      & 0.670                                    \\\\\n",
       "\t 13                                        & Los Lagos                                 & Chiloé                                    & Quemchi                                   &     440.3                                 &   9191                                    & 20.9                                      & 0.656                                    \\\\\n",
       "\t 13                                        & Los Lagos                                 & Chiloé                                    & Quinchao                                  &     160.7                                 &   9043                                    & 56.3                                      & 0.648                                    \\\\\n",
       "\t 13                                        & Los Lagos                                 & Osorno                                    & Río Negro                                 &    1265.7                                 &  13425                                    & 10.6                                      & 0.633                                    \\\\\n",
       "\t 13                                        & Los Lagos                                 & Osorno                                    & San Juan de la Costa                      &    1517.0                                 &   7997                                    &  5.3                                      & 0.510                                    \\\\\n",
       "\t 13                                        & Los Lagos                                 & Osorno                                    & San Pablo                                 &     637.3                                 &   9150                                    & 14.4                                      & 0.625                                    \\\\\n",
       "\t 14                                        & Aisén del General Carlos Ibáñez del Campo & Aysén                                     & Aysén                                     &   29796.4                                 &  27187                                    &  0.9                                      & 0.674                                    \\\\\n",
       "\t 14                                        & Aisén del General Carlos Ibáñez del Campo & General Carrera                           & Chile Chico                               &    5737.1                                 &   5334                                    &  0.8                                      & 0.707                                    \\\\\n",
       "\t 14                                        & Aisén del General Carlos Ibáñez del Campo & Aysén                                     & Cisnes                                    &   16093.0                                 &   6166                                    &  0.3                                      & 0.725                                    \\\\\n",
       "\t 14                                        & Aisén del General Carlos Ibáñez del Campo & Capitán Prat                              & Cochrane                                  &    8599.5                                 &   2759                                    &  0.3                                      & 0.668                                    \\\\\n",
       "\t 14                                        & Aisén del General Carlos Ibáñez del Campo & Coyhaique                                 & Coyhaique                                 &    7290.2                                 &  59221                                    &  6.8                                      & 0.751                                    \\\\\n",
       "\t 14                                        & Aisén del General Carlos Ibáñez del Campo & Aysén                                     & Guaitecas                                 &     620.6                                 &   1862                                    &  2.4                                      & 0.654                                    \\\\\n",
       "\t 14                                        & Aisén del General Carlos Ibáñez del Campo & Coyhaique                                 & Lago Verde                                &    5422.3                                 &    925                                    &  0.2                                      & 0.637                                    \\\\\n",
       "\t 14                                        & Aisén del General Carlos Ibáñez del Campo & Capitán Prat                              & O'Higgins                                 &    8182.5                                 &    700                                    &  0.1                                      & 0.572                                    \\\\\n",
       "\t 14                                        & Aisén del General Carlos Ibáñez del Campo & General Carrera                           & Río Ibáñez                                &    5997.2                                 &   2208                                    &  0.4                                      & 0.654                                    \\\\\n",
       "\t 14                                        & Aisén del General Carlos Ibáñez del Campo & Capitán Prat                              & Tortel                                    &   19710.6                                 &    531                                    &  0.0                                      & 0.655                                    \\\\\n",
       "\t 15                                        & Magallanes y de la Antártica Chilena      & Antártica Chilena                         & Antártica                                 & 1250257.6                                 &    127                                    &  0.0                                      &    NA                                    \\\\\n",
       "\t 15                                        & Magallanes y de la Antártica Chilena      & Antártica Chilena                         & Cabo de Hornos                            &   15578.7                                 &   1677                                    &  0.1                                      & 0.806                                    \\\\\n",
       "\t 15                                        & Magallanes y de la Antártica Chilena      & Magallanes                                & Laguna Blanca                             &    3695.6                                 &    631                                    &  0.0                                      & 0.785                                    \\\\\n",
       "\t 15                                        & Magallanes y de la Antártica Chilena      & Última Esperanza                          & Natales                                   &   49924.1                                 &  21327                                    &  0.4                                      & 0.699                                    \\\\\n",
       "\t 15                                        & Magallanes y de la Antártica Chilena      & Tierra del Fuego                          & Porvenir                                  &    9707.4                                 &   5650                                    &  0.8                                      & 0.731                                    \\\\\n",
       "\t 15                                        & Magallanes y de la Antártica Chilena      & Tierra del Fuego                          & Primavera                                 &    4253.4                                 &    803                                    &  0.2                                      & 0.774                                    \\\\\n",
       "\t 15                                        & Magallanes y de la Antártica Chilena      & Magallanes                                & Punta Arenas                              &   17846.3                                 & 125483                                    &  6.8                                      & 0.748                                    \\\\\n",
       "\t 15                                        & Magallanes y de la Antártica Chilena      & Magallanes                                & Río Verde                                 &   17248.0                                 &    363                                    &  0.0                                      & 0.784                                    \\\\\n",
       "\t 15                                        & Magallanes y de la Antártica Chilena      & Magallanes                                & San Gregorio                              &    6883.7                                 &    731                                    &  0.1                                      & 0.823                                    \\\\\n",
       "\t 15                                        & Magallanes y de la Antártica Chilena      & Tierra del Fuego                          & Timaukel                                  &   10758.9                                 &    873                                    &  0.1                                      & 0.717                                    \\\\\n",
       "\t 15                                        & Magallanes y de la Antártica Chilena      & Última Esperanza                          & Torres del Paine                          &    6630.0                                 &   1163                                    &  0.1                                      & 0.730                                    \\\\\n",
       "\\end{tabular}\n"
      ],
      "text/markdown": [
       "\n",
       "RegionID | Region | Provincia | Comuna | Superficie | Poblacion | Densidad | IDH_2005 | \n",
       "|---|---|---|---|---|---|---|---|---|---|---|---|---|---|---|---|---|---|---|---|---|---|---|---|---|---|---|---|---|---|---|---|---|---|---|---|---|---|---|---|---|---|---|---|---|---|---|---|---|---|---|---|---|---|---|---|---|---|---|---|---|\n",
       "| 1                    | Arica y Parinacota   | Arica                | Arica                |  4799.4              | 210936               | 38.4                 | 0.736                | \n",
       "| 1                    | Arica y Parinacota   | Arica                | Camarones            |  3927.0              |    679               |  0.3                 | 0.751                | \n",
       "| 1                    | Arica y Parinacota   | Parinacota           | General Lagos        |  2244.4              |    739               |  0.5                 | 0.670                | \n",
       "| 1                    | Arica y Parinacota   | Parinacota           | Putre                |  5902.5              |   1462               |  0.2                 | 0.707                | \n",
       "| 1                    | Arica y Parinacota   | Iquique              | Alto Hospicio        |   572.9              |  94455               | 87.6                 |    NA                | \n",
       "| 2                    | Tarapacá             | Tamarugal            | Camiña               |  2200.2              |   1156               |  0.5                 | 0.619                | \n",
       "| 2                    | Tarapacá             | Tamarugal            | Colchane             |  4015.6              |   1384               |  0.4                 | 0.603                | \n",
       "| 2                    | Tarapacá             | Tamarugal            | Huara                | 10474.6              |   2360               |  0.2                 | 0.676                | \n",
       "| 2                    | Tarapacá             | Iquique              | Iquique              |  2242.1              | 184953               | 82.4                 | 0.766                | \n",
       "| 2                    | Tarapacá             | Tamarugal            | Pica                 |  8934.3              |   4194               |  0.6                 | 0.793                | \n",
       "| 2                    | Tarapacá             | Tamarugal            | Pozo Almonte         | 13765.8              |  11519               |  0.7                 | 0.722                | \n",
       "| 3                    | Antofagasta          | Antofagasta          | Antofagasta          | 30718.1              | 348669               |  9.7                 | 0.734                | \n",
       "| 3                    | Antofagasta          | El Loa               | Calama               | 15596.9              | 147886               |  9.1                 | 0.757                | \n",
       "| 3                    | Antofagasta          | Tocopilla            | María Elena          | 12197.0              |   4593               |  0.6                 | 0.779                | \n",
       "| 3                    | Antofagasta          | Antofagasta          | Mejillones           |  3803.9              |   9752               |  2.2                 | 0.730                | \n",
       "| 3                    | Antofagasta          | El Loa               | Ollagüe              |  2964.0              |    332               |  0.1                 | 0.679                | \n",
       "| 3                    | Antofagasta          | El Loa               | San Pedro de Atacama | 23439.0              |   5605               |  0.2                 | 0.711                | \n",
       "| 3                    | Antofagasta          | Antofagasta          | Sierra Gorda         | 12886.0              |   1206               |  0.1                 | 0.789                | \n",
       "| 3                    | Antofagasta          | Antofagasta          | Taltal               | 20405.1              |  13493               |  0.5                 | 0.716                | \n",
       "| 3                    | Antofagasta          | Tocopilla            | Tocopilla            |  4038.8              |  20091               |  5.9                 | 0.690                | \n",
       "| 4                    | Atacama              | Huasco               | Alto del Carmen      |  5939.0              |   5488               |  0.8                 | 0.664                | \n",
       "| 4                    | Atacama              | Copiapó              | Caldera              |  4666.6              |  16150               |  2.9                 | 0.741                | \n",
       "| 4                    | Atacama              | Chañaral             | Chañaral             |  5772.0              |  14146               |  2.2                 | 0.714                | \n",
       "| 4                    | Atacama              | Copiapó              | Copiapó              | 16681.3              | 158261               | 11.9                 | 0.725                | \n",
       "| 4                    | Atacama              | Chañaral             | Diego de Almagro     | 18664.0              |  16452               |  1.0                 | 0.789                | \n",
       "| 4                    | Atacama              | Huasco               | Freirina             |  3207.0              |   6531               |  1.7                 | 0.693                | \n",
       "| 4                    | Atacama              | Huasco               | Huasco               |  1601.4              |   9015               |  5.6                 | 0.695                | \n",
       "| 4                    | Atacama              | Copiapó              | Tierra Amarilla      | 11191.0              |  13912               |  1.1                 | 0.686                | \n",
       "| 4                    | Atacama              | Huasco               | Vallenar             |  7084.0              |  52099               |  6.7                 | 0.731                | \n",
       "| 5                    | Coquimbo             | Elqui                | Andacollo            |   310.0              |  11116               | 33.1                 | 0.675                | \n",
       "| ⋮ | ⋮ | ⋮ | ⋮ | ⋮ | ⋮ | ⋮ | ⋮ | \n",
       "| 13                                        | Los Lagos                                 | Osorno                                    | Purranque                                 |    1458.8                                 |  20768                                    | 14.2                                      | 0.627                                     | \n",
       "| 13                                        | Los Lagos                                 | Osorno                                    | Puyehue                                   |    1597.9                                 |  11370                                    |  7.1                                      | 0.675                                     | \n",
       "| 13                                        | Los Lagos                                 | Chiloé                                    | Queilén                                   |     332.9                                 |   5319                                    | 16.0                                      | 0.646                                     | \n",
       "| 13                                        | Los Lagos                                 | Chiloé                                    | Quellón                                   |    3244.0                                 |  30964                                    |  9.5                                      | 0.670                                     | \n",
       "| 13                                        | Los Lagos                                 | Chiloé                                    | Quemchi                                   |     440.3                                 |   9191                                    | 20.9                                      | 0.656                                     | \n",
       "| 13                                        | Los Lagos                                 | Chiloé                                    | Quinchao                                  |     160.7                                 |   9043                                    | 56.3                                      | 0.648                                     | \n",
       "| 13                                        | Los Lagos                                 | Osorno                                    | Río Negro                                 |    1265.7                                 |  13425                                    | 10.6                                      | 0.633                                     | \n",
       "| 13                                        | Los Lagos                                 | Osorno                                    | San Juan de la Costa                      |    1517.0                                 |   7997                                    |  5.3                                      | 0.510                                     | \n",
       "| 13                                        | Los Lagos                                 | Osorno                                    | San Pablo                                 |     637.3                                 |   9150                                    | 14.4                                      | 0.625                                     | \n",
       "| 14                                        | Aisén del General Carlos Ibáñez del Campo | Aysén                                     | Aysén                                     |   29796.4                                 |  27187                                    |  0.9                                      | 0.674                                     | \n",
       "| 14                                        | Aisén del General Carlos Ibáñez del Campo | General Carrera                           | Chile Chico                               |    5737.1                                 |   5334                                    |  0.8                                      | 0.707                                     | \n",
       "| 14                                        | Aisén del General Carlos Ibáñez del Campo | Aysén                                     | Cisnes                                    |   16093.0                                 |   6166                                    |  0.3                                      | 0.725                                     | \n",
       "| 14                                        | Aisén del General Carlos Ibáñez del Campo | Capitán Prat                              | Cochrane                                  |    8599.5                                 |   2759                                    |  0.3                                      | 0.668                                     | \n",
       "| 14                                        | Aisén del General Carlos Ibáñez del Campo | Coyhaique                                 | Coyhaique                                 |    7290.2                                 |  59221                                    |  6.8                                      | 0.751                                     | \n",
       "| 14                                        | Aisén del General Carlos Ibáñez del Campo | Aysén                                     | Guaitecas                                 |     620.6                                 |   1862                                    |  2.4                                      | 0.654                                     | \n",
       "| 14                                        | Aisén del General Carlos Ibáñez del Campo | Coyhaique                                 | Lago Verde                                |    5422.3                                 |    925                                    |  0.2                                      | 0.637                                     | \n",
       "| 14                                        | Aisén del General Carlos Ibáñez del Campo | Capitán Prat                              | O'Higgins                                 |    8182.5                                 |    700                                    |  0.1                                      | 0.572                                     | \n",
       "| 14                                        | Aisén del General Carlos Ibáñez del Campo | General Carrera                           | Río Ibáñez                                |    5997.2                                 |   2208                                    |  0.4                                      | 0.654                                     | \n",
       "| 14                                        | Aisén del General Carlos Ibáñez del Campo | Capitán Prat                              | Tortel                                    |   19710.6                                 |    531                                    |  0.0                                      | 0.655                                     | \n",
       "| 15                                        | Magallanes y de la Antártica Chilena      | Antártica Chilena                         | Antártica                                 | 1250257.6                                 |    127                                    |  0.0                                      |    NA                                     | \n",
       "| 15                                        | Magallanes y de la Antártica Chilena      | Antártica Chilena                         | Cabo de Hornos                            |   15578.7                                 |   1677                                    |  0.1                                      | 0.806                                     | \n",
       "| 15                                        | Magallanes y de la Antártica Chilena      | Magallanes                                | Laguna Blanca                             |    3695.6                                 |    631                                    |  0.0                                      | 0.785                                     | \n",
       "| 15                                        | Magallanes y de la Antártica Chilena      | Última Esperanza                          | Natales                                   |   49924.1                                 |  21327                                    |  0.4                                      | 0.699                                     | \n",
       "| 15                                        | Magallanes y de la Antártica Chilena      | Tierra del Fuego                          | Porvenir                                  |    9707.4                                 |   5650                                    |  0.8                                      | 0.731                                     | \n",
       "| 15                                        | Magallanes y de la Antártica Chilena      | Tierra del Fuego                          | Primavera                                 |    4253.4                                 |    803                                    |  0.2                                      | 0.774                                     | \n",
       "| 15                                        | Magallanes y de la Antártica Chilena      | Magallanes                                | Punta Arenas                              |   17846.3                                 | 125483                                    |  6.8                                      | 0.748                                     | \n",
       "| 15                                        | Magallanes y de la Antártica Chilena      | Magallanes                                | Río Verde                                 |   17248.0                                 |    363                                    |  0.0                                      | 0.784                                     | \n",
       "| 15                                        | Magallanes y de la Antártica Chilena      | Magallanes                                | San Gregorio                              |    6883.7                                 |    731                                    |  0.1                                      | 0.823                                     | \n",
       "| 15                                        | Magallanes y de la Antártica Chilena      | Tierra del Fuego                          | Timaukel                                  |   10758.9                                 |    873                                    |  0.1                                      | 0.717                                     | \n",
       "| 15                                        | Magallanes y de la Antártica Chilena      | Última Esperanza                          | Torres del Paine                          |    6630.0                                 |   1163                                    |  0.1                                      | 0.730                                     | \n",
       "\n",
       "\n"
      ],
      "text/plain": [
       "    RegionID Region                                    Provincia        \n",
       "1   1        Arica y Parinacota                        Arica            \n",
       "2   1        Arica y Parinacota                        Arica            \n",
       "3   1        Arica y Parinacota                        Parinacota       \n",
       "4   1        Arica y Parinacota                        Parinacota       \n",
       "5   1        Arica y Parinacota                        Iquique          \n",
       "6   2        Tarapacá                                  Tamarugal        \n",
       "7   2        Tarapacá                                  Tamarugal        \n",
       "8   2        Tarapacá                                  Tamarugal        \n",
       "9   2        Tarapacá                                  Iquique          \n",
       "10  2        Tarapacá                                  Tamarugal        \n",
       "11  2        Tarapacá                                  Tamarugal        \n",
       "12  3        Antofagasta                               Antofagasta      \n",
       "13  3        Antofagasta                               El Loa           \n",
       "14  3        Antofagasta                               Tocopilla        \n",
       "15  3        Antofagasta                               Antofagasta      \n",
       "16  3        Antofagasta                               El Loa           \n",
       "17  3        Antofagasta                               El Loa           \n",
       "18  3        Antofagasta                               Antofagasta      \n",
       "19  3        Antofagasta                               Antofagasta      \n",
       "20  3        Antofagasta                               Tocopilla        \n",
       "21  4        Atacama                                   Huasco           \n",
       "22  4        Atacama                                   Copiapó          \n",
       "23  4        Atacama                                   Chañaral         \n",
       "24  4        Atacama                                   Copiapó          \n",
       "25  4        Atacama                                   Chañaral         \n",
       "26  4        Atacama                                   Huasco           \n",
       "27  4        Atacama                                   Huasco           \n",
       "28  4        Atacama                                   Copiapó          \n",
       "29  4        Atacama                                   Huasco           \n",
       "30  5        Coquimbo                                  Elqui            \n",
       "⋮   ⋮        ⋮                                         ⋮                \n",
       "317 13       Los Lagos                                 Osorno           \n",
       "318 13       Los Lagos                                 Osorno           \n",
       "319 13       Los Lagos                                 Chiloé           \n",
       "320 13       Los Lagos                                 Chiloé           \n",
       "321 13       Los Lagos                                 Chiloé           \n",
       "322 13       Los Lagos                                 Chiloé           \n",
       "323 13       Los Lagos                                 Osorno           \n",
       "324 13       Los Lagos                                 Osorno           \n",
       "325 13       Los Lagos                                 Osorno           \n",
       "326 14       Aisén del General Carlos Ibáñez del Campo Aysén            \n",
       "327 14       Aisén del General Carlos Ibáñez del Campo General Carrera  \n",
       "328 14       Aisén del General Carlos Ibáñez del Campo Aysén            \n",
       "329 14       Aisén del General Carlos Ibáñez del Campo Capitán Prat     \n",
       "330 14       Aisén del General Carlos Ibáñez del Campo Coyhaique        \n",
       "331 14       Aisén del General Carlos Ibáñez del Campo Aysén            \n",
       "332 14       Aisén del General Carlos Ibáñez del Campo Coyhaique        \n",
       "333 14       Aisén del General Carlos Ibáñez del Campo Capitán Prat     \n",
       "334 14       Aisén del General Carlos Ibáñez del Campo General Carrera  \n",
       "335 14       Aisén del General Carlos Ibáñez del Campo Capitán Prat     \n",
       "336 15       Magallanes y de la Antártica Chilena      Antártica Chilena\n",
       "337 15       Magallanes y de la Antártica Chilena      Antártica Chilena\n",
       "338 15       Magallanes y de la Antártica Chilena      Magallanes       \n",
       "339 15       Magallanes y de la Antártica Chilena      Última Esperanza \n",
       "340 15       Magallanes y de la Antártica Chilena      Tierra del Fuego \n",
       "341 15       Magallanes y de la Antártica Chilena      Tierra del Fuego \n",
       "342 15       Magallanes y de la Antártica Chilena      Magallanes       \n",
       "343 15       Magallanes y de la Antártica Chilena      Magallanes       \n",
       "344 15       Magallanes y de la Antártica Chilena      Magallanes       \n",
       "345 15       Magallanes y de la Antártica Chilena      Tierra del Fuego \n",
       "346 15       Magallanes y de la Antártica Chilena      Última Esperanza \n",
       "    Comuna               Superficie Poblacion Densidad IDH_2005\n",
       "1   Arica                 4799.4    210936    38.4     0.736   \n",
       "2   Camarones             3927.0       679     0.3     0.751   \n",
       "3   General Lagos         2244.4       739     0.5     0.670   \n",
       "4   Putre                 5902.5      1462     0.2     0.707   \n",
       "5   Alto Hospicio          572.9     94455    87.6        NA   \n",
       "6   Camiña                2200.2      1156     0.5     0.619   \n",
       "7   Colchane              4015.6      1384     0.4     0.603   \n",
       "8   Huara                10474.6      2360     0.2     0.676   \n",
       "9   Iquique               2242.1    184953    82.4     0.766   \n",
       "10  Pica                  8934.3      4194     0.6     0.793   \n",
       "11  Pozo Almonte         13765.8     11519     0.7     0.722   \n",
       "12  Antofagasta          30718.1    348669     9.7     0.734   \n",
       "13  Calama               15596.9    147886     9.1     0.757   \n",
       "14  María Elena          12197.0      4593     0.6     0.779   \n",
       "15  Mejillones            3803.9      9752     2.2     0.730   \n",
       "16  Ollagüe               2964.0       332     0.1     0.679   \n",
       "17  San Pedro de Atacama 23439.0      5605     0.2     0.711   \n",
       "18  Sierra Gorda         12886.0      1206     0.1     0.789   \n",
       "19  Taltal               20405.1     13493     0.5     0.716   \n",
       "20  Tocopilla             4038.8     20091     5.9     0.690   \n",
       "21  Alto del Carmen       5939.0      5488     0.8     0.664   \n",
       "22  Caldera               4666.6     16150     2.9     0.741   \n",
       "23  Chañaral              5772.0     14146     2.2     0.714   \n",
       "24  Copiapó              16681.3    158261    11.9     0.725   \n",
       "25  Diego de Almagro     18664.0     16452     1.0     0.789   \n",
       "26  Freirina              3207.0      6531     1.7     0.693   \n",
       "27  Huasco                1601.4      9015     5.6     0.695   \n",
       "28  Tierra Amarilla      11191.0     13912     1.1     0.686   \n",
       "29  Vallenar              7084.0     52099     6.7     0.731   \n",
       "30  Andacollo              310.0     11116    33.1     0.675   \n",
       "⋮   ⋮                    ⋮          ⋮         ⋮        ⋮       \n",
       "317 Purranque               1458.8   20768    14.2     0.627   \n",
       "318 Puyehue                 1597.9   11370     7.1     0.675   \n",
       "319 Queilén                  332.9    5319    16.0     0.646   \n",
       "320 Quellón                 3244.0   30964     9.5     0.670   \n",
       "321 Quemchi                  440.3    9191    20.9     0.656   \n",
       "322 Quinchao                 160.7    9043    56.3     0.648   \n",
       "323 Río Negro               1265.7   13425    10.6     0.633   \n",
       "324 San Juan de la Costa    1517.0    7997     5.3     0.510   \n",
       "325 San Pablo                637.3    9150    14.4     0.625   \n",
       "326 Aysén                  29796.4   27187     0.9     0.674   \n",
       "327 Chile Chico             5737.1    5334     0.8     0.707   \n",
       "328 Cisnes                 16093.0    6166     0.3     0.725   \n",
       "329 Cochrane                8599.5    2759     0.3     0.668   \n",
       "330 Coyhaique               7290.2   59221     6.8     0.751   \n",
       "331 Guaitecas                620.6    1862     2.4     0.654   \n",
       "332 Lago Verde              5422.3     925     0.2     0.637   \n",
       "333 O'Higgins               8182.5     700     0.1     0.572   \n",
       "334 Río Ibáñez              5997.2    2208     0.4     0.654   \n",
       "335 Tortel                 19710.6     531     0.0     0.655   \n",
       "336 Antártica            1250257.6     127     0.0        NA   \n",
       "337 Cabo de Hornos         15578.7    1677     0.1     0.806   \n",
       "338 Laguna Blanca           3695.6     631     0.0     0.785   \n",
       "339 Natales                49924.1   21327     0.4     0.699   \n",
       "340 Porvenir                9707.4    5650     0.8     0.731   \n",
       "341 Primavera               4253.4     803     0.2     0.774   \n",
       "342 Punta Arenas           17846.3  125483     6.8     0.748   \n",
       "343 Río Verde              17248.0     363     0.0     0.784   \n",
       "344 San Gregorio            6883.7     731     0.1     0.823   \n",
       "345 Timaukel               10758.9     873     0.1     0.717   \n",
       "346 Torres del Paine        6630.0    1163     0.1     0.730   "
      ]
     },
     "metadata": {},
     "output_type": "display_data"
    }
   ],
   "source": [
    "chile"
   ]
  },
  {
   "cell_type": "code",
   "execution_count": 26,
   "metadata": {
    "collapsed": false
   },
   "outputs": [
    {
     "data": {
      "text/html": [
       "<table>\n",
       "<thead><tr><th scope=col>Region</th><th scope=col>n_comuna</th></tr></thead>\n",
       "<tbody>\n",
       "\t<tr><td>Aisén del General Carlos Ibáñez del Campo</td><td>10                                       </td></tr>\n",
       "\t<tr><td>Antofagasta                              </td><td> 9                                       </td></tr>\n",
       "\t<tr><td>Arica y Parinacota                       </td><td> 5                                       </td></tr>\n",
       "\t<tr><td>Atacama                                  </td><td> 9                                       </td></tr>\n",
       "\t<tr><td>Biobío                                   </td><td>54                                       </td></tr>\n",
       "\t<tr><td>Coquimbo                                 </td><td>15                                       </td></tr>\n",
       "\t<tr><td>La Araucanía                             </td><td>32                                       </td></tr>\n",
       "\t<tr><td>Libertador General Bernardo O'Higgins    </td><td>33                                       </td></tr>\n",
       "\t<tr><td>Los Lagos                                </td><td>30                                       </td></tr>\n",
       "\t<tr><td>Los Ríos                                 </td><td>12                                       </td></tr>\n",
       "\t<tr><td>Magallanes y de la Antártica Chilena     </td><td>11                                       </td></tr>\n",
       "\t<tr><td>Maule                                    </td><td>30                                       </td></tr>\n",
       "\t<tr><td>Metropolitana de Santiago                </td><td>52                                       </td></tr>\n",
       "\t<tr><td>Tarapacá                                 </td><td> 6                                       </td></tr>\n",
       "\t<tr><td>Valparaíso                               </td><td>38                                       </td></tr>\n",
       "</tbody>\n",
       "</table>\n"
      ],
      "text/latex": [
       "\\begin{tabular}{r|ll}\n",
       " Region & n\\_comuna\\\\\n",
       "\\hline\n",
       "\t Aisén del General Carlos Ibáñez del Campo & 10                                       \\\\\n",
       "\t Antofagasta                               &  9                                       \\\\\n",
       "\t Arica y Parinacota                        &  5                                       \\\\\n",
       "\t Atacama                                   &  9                                       \\\\\n",
       "\t Biobío                                    & 54                                       \\\\\n",
       "\t Coquimbo                                  & 15                                       \\\\\n",
       "\t La Araucanía                              & 32                                       \\\\\n",
       "\t Libertador General Bernardo O'Higgins     & 33                                       \\\\\n",
       "\t Los Lagos                                 & 30                                       \\\\\n",
       "\t Los Ríos                                  & 12                                       \\\\\n",
       "\t Magallanes y de la Antártica Chilena      & 11                                       \\\\\n",
       "\t Maule                                     & 30                                       \\\\\n",
       "\t Metropolitana de Santiago                 & 52                                       \\\\\n",
       "\t Tarapacá                                  &  6                                       \\\\\n",
       "\t Valparaíso                                & 38                                       \\\\\n",
       "\\end{tabular}\n"
      ],
      "text/markdown": [
       "\n",
       "Region | n_comuna | \n",
       "|---|---|---|---|---|---|---|---|---|---|---|---|---|---|---|\n",
       "| Aisén del General Carlos Ibáñez del Campo | 10                                        | \n",
       "| Antofagasta                               |  9                                        | \n",
       "| Arica y Parinacota                        |  5                                        | \n",
       "| Atacama                                   |  9                                        | \n",
       "| Biobío                                    | 54                                        | \n",
       "| Coquimbo                                  | 15                                        | \n",
       "| La Araucanía                              | 32                                        | \n",
       "| Libertador General Bernardo O'Higgins     | 33                                        | \n",
       "| Los Lagos                                 | 30                                        | \n",
       "| Los Ríos                                  | 12                                        | \n",
       "| Magallanes y de la Antártica Chilena      | 11                                        | \n",
       "| Maule                                     | 30                                        | \n",
       "| Metropolitana de Santiago                 | 52                                        | \n",
       "| Tarapacá                                  |  6                                        | \n",
       "| Valparaíso                                | 38                                        | \n",
       "\n",
       "\n"
      ],
      "text/plain": [
       "   Region                                    n_comuna\n",
       "1  Aisén del General Carlos Ibáñez del Campo 10      \n",
       "2  Antofagasta                                9      \n",
       "3  Arica y Parinacota                         5      \n",
       "4  Atacama                                    9      \n",
       "5  Biobío                                    54      \n",
       "6  Coquimbo                                  15      \n",
       "7  La Araucanía                              32      \n",
       "8  Libertador General Bernardo O'Higgins     33      \n",
       "9  Los Lagos                                 30      \n",
       "10 Los Ríos                                  12      \n",
       "11 Magallanes y de la Antártica Chilena      11      \n",
       "12 Maule                                     30      \n",
       "13 Metropolitana de Santiago                 52      \n",
       "14 Tarapacá                                   6      \n",
       "15 Valparaíso                                38      "
      ]
     },
     "metadata": {},
     "output_type": "display_data"
    }
   ],
   "source": [
    "chile_region <- group_by(chile, Region)\n",
    "summarise(chile_region, n_comuna=n())"
   ]
  },
  {
   "cell_type": "code",
   "execution_count": 27,
   "metadata": {
    "collapsed": false
   },
   "outputs": [
    {
     "data": {
      "text/html": [
       "<table>\n",
       "<thead><tr><th scope=col>Region</th><th scope=col>n_comuna</th><th scope=col>poblacion</th></tr></thead>\n",
       "<tbody>\n",
       "\t<tr><td>Aisén del General Carlos Ibáñez del Campo</td><td>10                                       </td><td> 106893                                  </td></tr>\n",
       "\t<tr><td>Antofagasta                              </td><td> 9                                       </td><td> 551627                                  </td></tr>\n",
       "\t<tr><td>Arica y Parinacota                       </td><td> 5                                       </td><td> 308271                                  </td></tr>\n",
       "\t<tr><td>Atacama                                  </td><td> 9                                       </td><td> 292054                                  </td></tr>\n",
       "\t<tr><td>Biobío                                   </td><td>54                                       </td><td>2025995                                  </td></tr>\n",
       "\t<tr><td>Coquimbo                                 </td><td>15                                       </td><td> 714856                                  </td></tr>\n",
       "\t<tr><td>La Araucanía                             </td><td>32                                       </td><td> 933537                                  </td></tr>\n",
       "\t<tr><td>Libertador General Bernardo O'Higgins    </td><td>33                                       </td><td> 903248                                  </td></tr>\n",
       "\t<tr><td>Los Lagos                                </td><td>30                                       </td><td> 835829                                  </td></tr>\n",
       "\t<tr><td>Los Ríos                                 </td><td>12                                       </td><td> 380618                                  </td></tr>\n",
       "\t<tr><td>Magallanes y de la Antártica Chilena     </td><td>11                                       </td><td> 158828                                  </td></tr>\n",
       "\t<tr><td>Maule                                    </td><td>30                                       </td><td>1073635                                  </td></tr>\n",
       "\t<tr><td>Metropolitana de Santiago                </td><td>52                                       </td><td>7150480                                  </td></tr>\n",
       "\t<tr><td>Tarapacá                                 </td><td> 6                                       </td><td> 205566                                  </td></tr>\n",
       "\t<tr><td>Valparaíso                               </td><td>38                                       </td><td>1859312                                  </td></tr>\n",
       "</tbody>\n",
       "</table>\n"
      ],
      "text/latex": [
       "\\begin{tabular}{r|lll}\n",
       " Region & n\\_comuna & poblacion\\\\\n",
       "\\hline\n",
       "\t Aisén del General Carlos Ibáñez del Campo & 10                                        &  106893                                  \\\\\n",
       "\t Antofagasta                               &  9                                        &  551627                                  \\\\\n",
       "\t Arica y Parinacota                        &  5                                        &  308271                                  \\\\\n",
       "\t Atacama                                   &  9                                        &  292054                                  \\\\\n",
       "\t Biobío                                    & 54                                        & 2025995                                  \\\\\n",
       "\t Coquimbo                                  & 15                                        &  714856                                  \\\\\n",
       "\t La Araucanía                              & 32                                        &  933537                                  \\\\\n",
       "\t Libertador General Bernardo O'Higgins     & 33                                        &  903248                                  \\\\\n",
       "\t Los Lagos                                 & 30                                        &  835829                                  \\\\\n",
       "\t Los Ríos                                  & 12                                        &  380618                                  \\\\\n",
       "\t Magallanes y de la Antártica Chilena      & 11                                        &  158828                                  \\\\\n",
       "\t Maule                                     & 30                                        & 1073635                                  \\\\\n",
       "\t Metropolitana de Santiago                 & 52                                        & 7150480                                  \\\\\n",
       "\t Tarapacá                                  &  6                                        &  205566                                  \\\\\n",
       "\t Valparaíso                                & 38                                        & 1859312                                  \\\\\n",
       "\\end{tabular}\n"
      ],
      "text/markdown": [
       "\n",
       "Region | n_comuna | poblacion | \n",
       "|---|---|---|---|---|---|---|---|---|---|---|---|---|---|---|\n",
       "| Aisén del General Carlos Ibáñez del Campo | 10                                        |  106893                                   | \n",
       "| Antofagasta                               |  9                                        |  551627                                   | \n",
       "| Arica y Parinacota                        |  5                                        |  308271                                   | \n",
       "| Atacama                                   |  9                                        |  292054                                   | \n",
       "| Biobío                                    | 54                                        | 2025995                                   | \n",
       "| Coquimbo                                  | 15                                        |  714856                                   | \n",
       "| La Araucanía                              | 32                                        |  933537                                   | \n",
       "| Libertador General Bernardo O'Higgins     | 33                                        |  903248                                   | \n",
       "| Los Lagos                                 | 30                                        |  835829                                   | \n",
       "| Los Ríos                                  | 12                                        |  380618                                   | \n",
       "| Magallanes y de la Antártica Chilena      | 11                                        |  158828                                   | \n",
       "| Maule                                     | 30                                        | 1073635                                   | \n",
       "| Metropolitana de Santiago                 | 52                                        | 7150480                                   | \n",
       "| Tarapacá                                  |  6                                        |  205566                                   | \n",
       "| Valparaíso                                | 38                                        | 1859312                                   | \n",
       "\n",
       "\n"
      ],
      "text/plain": [
       "   Region                                    n_comuna poblacion\n",
       "1  Aisén del General Carlos Ibáñez del Campo 10        106893  \n",
       "2  Antofagasta                                9        551627  \n",
       "3  Arica y Parinacota                         5        308271  \n",
       "4  Atacama                                    9        292054  \n",
       "5  Biobío                                    54       2025995  \n",
       "6  Coquimbo                                  15        714856  \n",
       "7  La Araucanía                              32        933537  \n",
       "8  Libertador General Bernardo O'Higgins     33        903248  \n",
       "9  Los Lagos                                 30        835829  \n",
       "10 Los Ríos                                  12        380618  \n",
       "11 Magallanes y de la Antártica Chilena      11        158828  \n",
       "12 Maule                                     30       1073635  \n",
       "13 Metropolitana de Santiago                 52       7150480  \n",
       "14 Tarapacá                                   6        205566  \n",
       "15 Valparaíso                                38       1859312  "
      ]
     },
     "metadata": {},
     "output_type": "display_data"
    }
   ],
   "source": [
    "summarise(chile_region, n_comuna=n(), poblacion=sum(Poblacion))"
   ]
  },
  {
   "cell_type": "markdown",
   "metadata": {},
   "source": [
    "En vez de definir variables intermedias, uno podría usar el operado %>% para pasar variables de una función a otra"
   ]
  },
  {
   "cell_type": "code",
   "execution_count": 31,
   "metadata": {
    "collapsed": false
   },
   "outputs": [
    {
     "data": {
      "text/html": [
       "<table>\n",
       "<thead><tr><th scope=col>Region</th><th scope=col>n_comuna</th><th scope=col>poblacion</th></tr></thead>\n",
       "<tbody>\n",
       "\t<tr><td>Aisén del General Carlos Ibáñez del Campo</td><td>10                                       </td><td> 106893                                  </td></tr>\n",
       "\t<tr><td>Antofagasta                              </td><td> 9                                       </td><td> 551627                                  </td></tr>\n",
       "\t<tr><td>Arica y Parinacota                       </td><td> 5                                       </td><td> 308271                                  </td></tr>\n",
       "\t<tr><td>Atacama                                  </td><td> 9                                       </td><td> 292054                                  </td></tr>\n",
       "\t<tr><td>Biobío                                   </td><td>54                                       </td><td>2025995                                  </td></tr>\n",
       "\t<tr><td>Coquimbo                                 </td><td>15                                       </td><td> 714856                                  </td></tr>\n",
       "\t<tr><td>La Araucanía                             </td><td>32                                       </td><td> 933537                                  </td></tr>\n",
       "\t<tr><td>Libertador General Bernardo O'Higgins    </td><td>33                                       </td><td> 903248                                  </td></tr>\n",
       "\t<tr><td>Los Lagos                                </td><td>30                                       </td><td> 835829                                  </td></tr>\n",
       "\t<tr><td>Los Ríos                                 </td><td>12                                       </td><td> 380618                                  </td></tr>\n",
       "\t<tr><td>Magallanes y de la Antártica Chilena     </td><td>11                                       </td><td> 158828                                  </td></tr>\n",
       "\t<tr><td>Maule                                    </td><td>30                                       </td><td>1073635                                  </td></tr>\n",
       "\t<tr><td>Metropolitana de Santiago                </td><td>52                                       </td><td>7150480                                  </td></tr>\n",
       "\t<tr><td>Tarapacá                                 </td><td> 6                                       </td><td> 205566                                  </td></tr>\n",
       "\t<tr><td>Valparaíso                               </td><td>38                                       </td><td>1859312                                  </td></tr>\n",
       "</tbody>\n",
       "</table>\n"
      ],
      "text/latex": [
       "\\begin{tabular}{r|lll}\n",
       " Region & n\\_comuna & poblacion\\\\\n",
       "\\hline\n",
       "\t Aisén del General Carlos Ibáñez del Campo & 10                                        &  106893                                  \\\\\n",
       "\t Antofagasta                               &  9                                        &  551627                                  \\\\\n",
       "\t Arica y Parinacota                        &  5                                        &  308271                                  \\\\\n",
       "\t Atacama                                   &  9                                        &  292054                                  \\\\\n",
       "\t Biobío                                    & 54                                        & 2025995                                  \\\\\n",
       "\t Coquimbo                                  & 15                                        &  714856                                  \\\\\n",
       "\t La Araucanía                              & 32                                        &  933537                                  \\\\\n",
       "\t Libertador General Bernardo O'Higgins     & 33                                        &  903248                                  \\\\\n",
       "\t Los Lagos                                 & 30                                        &  835829                                  \\\\\n",
       "\t Los Ríos                                  & 12                                        &  380618                                  \\\\\n",
       "\t Magallanes y de la Antártica Chilena      & 11                                        &  158828                                  \\\\\n",
       "\t Maule                                     & 30                                        & 1073635                                  \\\\\n",
       "\t Metropolitana de Santiago                 & 52                                        & 7150480                                  \\\\\n",
       "\t Tarapacá                                  &  6                                        &  205566                                  \\\\\n",
       "\t Valparaíso                                & 38                                        & 1859312                                  \\\\\n",
       "\\end{tabular}\n"
      ],
      "text/markdown": [
       "\n",
       "Region | n_comuna | poblacion | \n",
       "|---|---|---|---|---|---|---|---|---|---|---|---|---|---|---|\n",
       "| Aisén del General Carlos Ibáñez del Campo | 10                                        |  106893                                   | \n",
       "| Antofagasta                               |  9                                        |  551627                                   | \n",
       "| Arica y Parinacota                        |  5                                        |  308271                                   | \n",
       "| Atacama                                   |  9                                        |  292054                                   | \n",
       "| Biobío                                    | 54                                        | 2025995                                   | \n",
       "| Coquimbo                                  | 15                                        |  714856                                   | \n",
       "| La Araucanía                              | 32                                        |  933537                                   | \n",
       "| Libertador General Bernardo O'Higgins     | 33                                        |  903248                                   | \n",
       "| Los Lagos                                 | 30                                        |  835829                                   | \n",
       "| Los Ríos                                  | 12                                        |  380618                                   | \n",
       "| Magallanes y de la Antártica Chilena      | 11                                        |  158828                                   | \n",
       "| Maule                                     | 30                                        | 1073635                                   | \n",
       "| Metropolitana de Santiago                 | 52                                        | 7150480                                   | \n",
       "| Tarapacá                                  |  6                                        |  205566                                   | \n",
       "| Valparaíso                                | 38                                        | 1859312                                   | \n",
       "\n",
       "\n"
      ],
      "text/plain": [
       "   Region                                    n_comuna poblacion\n",
       "1  Aisén del General Carlos Ibáñez del Campo 10        106893  \n",
       "2  Antofagasta                                9        551627  \n",
       "3  Arica y Parinacota                         5        308271  \n",
       "4  Atacama                                    9        292054  \n",
       "5  Biobío                                    54       2025995  \n",
       "6  Coquimbo                                  15        714856  \n",
       "7  La Araucanía                              32        933537  \n",
       "8  Libertador General Bernardo O'Higgins     33        903248  \n",
       "9  Los Lagos                                 30        835829  \n",
       "10 Los Ríos                                  12        380618  \n",
       "11 Magallanes y de la Antártica Chilena      11        158828  \n",
       "12 Maule                                     30       1073635  \n",
       "13 Metropolitana de Santiago                 52       7150480  \n",
       "14 Tarapacá                                   6        205566  \n",
       "15 Valparaíso                                38       1859312  "
      ]
     },
     "metadata": {},
     "output_type": "display_data"
    }
   ],
   "source": [
    "chile %>%\n",
    "group_by(Region) %>%\n",
    "summarise(n_comuna=n(), poblacion=sum(Poblacion))"
   ]
  },
  {
   "cell_type": "markdown",
   "metadata": {},
   "source": [
    "## Realice las siguientes actividades del taller. El taller debe ser enviado al correo del profesor al finalizar la clase y será evaluado."
   ]
  },
  {
   "cell_type": "markdown",
   "metadata": {},
   "source": [
    "## 1. Imprima un resumen del dataframe chile. El resumen debe contener al menos el valor mínimo, valor máximo y mediana."
   ]
  },
  {
   "cell_type": "code",
   "execution_count": null,
   "metadata": {
    "collapsed": false
   },
   "outputs": [],
   "source": []
  },
  {
   "cell_type": "markdown",
   "metadata": {},
   "source": [
    "## 2. Agrupe los datos por región y calcule el número de comunas, población total y superficie total\n",
    "\n",
    "Lea la documentación del paquete dplyr desde el sitio web oficial https://www.rdocumentation.org/packages/dplyr/versions/0.5.0\n",
    "\n",
    "La documentación de la función `group_by()` https://www.rdocumentation.org/packages/dplyr/versions/0.5.0/topics/group_by"
   ]
  },
  {
   "cell_type": "code",
   "execution_count": null,
   "metadata": {
    "collapsed": true
   },
   "outputs": [],
   "source": []
  },
  {
   "cell_type": "markdown",
   "metadata": {},
   "source": [
    "## 3. Agrupe los datos por región y provincia. Por cada par de región y provincia, determine el número de comunas, población total y superficie total\n",
    "\n",
    "\n",
    "Lea la documentación del paquete dplyr desde el sitio web oficial https://www.rdocumentation.org/packages/dplyr/versions/0.5.0\n",
    "\n",
    "La documentación de la función `group_by()` https://www.rdocumentation.org/packages/dplyr/versions/0.5.0/topics/group_by"
   ]
  },
  {
   "cell_type": "code",
   "execution_count": null,
   "metadata": {
    "collapsed": false
   },
   "outputs": [],
   "source": []
  },
  {
   "cell_type": "markdown",
   "metadata": {},
   "source": [
    "## 4. Ordene los valores del dataframe que construyo en la  usando la columna población total. Imprima un dataframe con los datos ordenados de menor a mayor y otra ordenada de mayor a menor.\n",
    "\n",
    "Lea la documentación de la función arrange() desde https://www.rdocumentation.org/packages/dplyr/versions/0.5.0/topics/arrange"
   ]
  },
  {
   "cell_type": "code",
   "execution_count": null,
   "metadata": {
    "collapsed": true
   },
   "outputs": [],
   "source": []
  }
 ],
 "metadata": {
  "kernelspec": {
   "display_name": "R",
   "language": "R",
   "name": "ir"
  },
  "language_info": {
   "codemirror_mode": "r",
   "file_extension": ".r",
   "mimetype": "text/x-r-source",
   "name": "R",
   "pygments_lexer": "r",
   "version": "3.3.3"
  }
 },
 "nbformat": 4,
 "nbformat_minor": 2
}
